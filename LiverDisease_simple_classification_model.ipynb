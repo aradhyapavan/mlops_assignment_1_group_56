{
  "cells": [
    {
      "cell_type": "markdown",
      "metadata": {
        "id": "ao_HhG7IAA3r"
      },
      "source": [
        "**About the dataset**\n",
        "\n",
        "The Dataset has 4 factors (X,Y) – Assuming they are coordinates of the affected spatial area. Month and day\n",
        "<br>•\tAge – is the age of the patient (CRITICAL X1 VALUE)\n",
        "<br>•\tDataset – is the flag used to identify potential liver disease (OUTPUT Y VALUE)\n",
        "<br>•\tTotal_Bilirubin – This provides us details on the yellow pigments in skin often resulting in Jaundice. High value means high risk of disease. (CRITICAL X2 VALUE)\n",
        "<br>•\tDirect_Bilirubin – Also called conjugated bilirubin, if high value then high risk of liver disease (CRITICAL X2 VALUE)\n",
        "<br>•\tAlkaline_Phosphotase - Also called ALP is an enzyme found in various tissues throughout the body. High value means high risk of disease. (CRITICAL X3 VALUE)\n",
        "<br>•\tAlamine_Aminotransferase - Also called ALT is an enzyme found primarily in the liver and is used in the metabolism of amino acids. High value means high risk of disease. (CRITCAL X4 Value)\n",
        "<br>•\tAspartate_Aminotransferase -  is an enzyme found in various tissues throughout the body, with the highest concentrations in the heart and liver. High value means high risk of disease.  (CRITICAL X5 Value)\n",
        "<br>•\tTotal_Proteins - The total protein level is the sum of albumin and globulin levels. A decrease in total protein levels may be seen when there is a significant decrease in albumin due to liver disease. (NON-CRITICAL VALUE)\n",
        "<br>•\tAlbumin – Albumin is a major protein produced by the liver, and it makes up a significant portion of the total protein in the blood. Decreased levels of albumin may be seen in liver diseases. Low value means high risk (CRITICAL X5 VALUE)\n",
        "<br>•\tAlbumin_and_Globulin_Ratio - Ratio of albumin and globulin concentration. (NON-CRITICAL VALUE)"
      ]
    },
    {
      "cell_type": "markdown",
      "metadata": {
        "id": "4qMf12U5LSeD"
      },
      "source": [
        "**1. Import Libraries/Dataset**\n",
        "\n",
        "\n"
      ]
    },
    {
      "cell_type": "markdown",
      "metadata": {
        "id": "nV8aAHDFLoHf"
      },
      "source": [
        "1.2 - Import the required libraries."
      ]
    },
    {
      "cell_type": "code",
      "execution_count": 40,
      "metadata": {
        "id": "phJfuE5W_e_t"
      },
      "outputs": [],
      "source": [
        "import pandas as pd # data processing\n",
        "import matplotlib.pyplot as plt #plot package\n",
        "from sklearn.model_selection import train_test_split, cross_val_score\n",
        "import numpy as np\n",
        "import seaborn as sns                  # for data visualisation\n",
        "from sklearn.ensemble import RandomForestClassifier\n",
        "from sklearn.neighbors import KNeighborsClassifier\n",
        "from sklearn.metrics import accuracy_score, classification_report, confusion_matrix"
      ]
    },
    {
      "cell_type": "markdown",
      "metadata": {
        "id": "pkYX-qvXLLS-"
      },
      "source": [
        "1.1 - Download the dataset."
      ]
    },
    {
      "cell_type": "code",
      "execution_count": 41,
      "metadata": {
        "colab": {
          "base_uri": "https://localhost:8080/",
          "height": 54
        },
        "id": "20ECHQ0HErr5",
        "outputId": "d7b57d63-eba2-40af-cc22-2afc6112e44a"
      },
      "outputs": [
        {
          "data": {
            "application/vnd.google.colaboratory.intrinsic+json": {
              "type": "string"
            },
            "text/plain": [
              "'\\nData Visualization and Exploration [1M]\\nPrint 2 rows for sanity check to identify all the features present in the dataset and if the\\ntarget matches with them.\\n'"
            ]
          },
          "execution_count": 41,
          "metadata": {},
          "output_type": "execute_result"
        }
      ],
      "source": [
        "#Reading dataset\n",
        "liverdisease_tbl = pd.read_csv(\"liver_disease_1.csv\")\n",
        "'''\n",
        "Data Visualization and Exploration [1M]\n",
        "Print 2 rows for sanity check to identify all the features present in the dataset and if the\n",
        "target matches with them.\n",
        "'''\n"
      ]
    },
    {
      "cell_type": "markdown",
      "metadata": {
        "id": "BhNrvHtZMENU"
      },
      "source": [
        "**2. Data Visualization and Exploration [1M]**\n",
        "\n",
        "\n"
      ]
    },
    {
      "cell_type": "markdown",
      "metadata": {
        "id": "8t-dgryOMJd5"
      },
      "source": [
        "2.a. Print 2 rows for sanity check to identify all the features present in the dataset and if the target matches with them."
      ]
    },
    {
      "cell_type": "code",
      "execution_count": 42,
      "metadata": {
        "colab": {
          "base_uri": "https://localhost:8080/",
          "height": 132
        },
        "id": "lxow1xVhMo_Q",
        "outputId": "c469dbc0-a65e-4b15-833a-bacaaff19070"
      },
      "outputs": [
        {
          "data": {
            "text/html": [
              "\n",
              "  <div id=\"df-aae11b61-cb47-4b6a-992e-ad6140949939\" class=\"colab-df-container\">\n",
              "    <div>\n",
              "<style scoped>\n",
              "    .dataframe tbody tr th:only-of-type {\n",
              "        vertical-align: middle;\n",
              "    }\n",
              "\n",
              "    .dataframe tbody tr th {\n",
              "        vertical-align: top;\n",
              "    }\n",
              "\n",
              "    .dataframe thead th {\n",
              "        text-align: right;\n",
              "    }\n",
              "</style>\n",
              "<table border=\"1\" class=\"dataframe\">\n",
              "  <thead>\n",
              "    <tr style=\"text-align: right;\">\n",
              "      <th></th>\n",
              "      <th>Age</th>\n",
              "      <th>Total_Bilirubin</th>\n",
              "      <th>Direct_Bilirubin</th>\n",
              "      <th>Alkaline_Phosphotase</th>\n",
              "      <th>Alamine_Aminotransferase</th>\n",
              "      <th>Aspartate_Aminotransferase</th>\n",
              "      <th>Total_Protiens</th>\n",
              "      <th>Albumin</th>\n",
              "      <th>Albumin_and_Globulin_Ratio</th>\n",
              "      <th>Dataset</th>\n",
              "    </tr>\n",
              "  </thead>\n",
              "  <tbody>\n",
              "    <tr>\n",
              "      <th>0</th>\n",
              "      <td>65</td>\n",
              "      <td>0.7</td>\n",
              "      <td>0.1</td>\n",
              "      <td>187</td>\n",
              "      <td>16</td>\n",
              "      <td>18</td>\n",
              "      <td>6.8</td>\n",
              "      <td>3.3</td>\n",
              "      <td>0.90</td>\n",
              "      <td>Yes</td>\n",
              "    </tr>\n",
              "    <tr>\n",
              "      <th>1</th>\n",
              "      <td>62</td>\n",
              "      <td>10.9</td>\n",
              "      <td>5.5</td>\n",
              "      <td>699</td>\n",
              "      <td>64</td>\n",
              "      <td>100</td>\n",
              "      <td>7.5</td>\n",
              "      <td>3.2</td>\n",
              "      <td>0.74</td>\n",
              "      <td>Yes</td>\n",
              "    </tr>\n",
              "  </tbody>\n",
              "</table>\n",
              "</div>\n",
              "    <div class=\"colab-df-buttons\">\n",
              "\n",
              "  <div class=\"colab-df-container\">\n",
              "    <button class=\"colab-df-convert\" onclick=\"convertToInteractive('df-aae11b61-cb47-4b6a-992e-ad6140949939')\"\n",
              "            title=\"Convert this dataframe to an interactive table.\"\n",
              "            style=\"display:none;\">\n",
              "\n",
              "  <svg xmlns=\"http://www.w3.org/2000/svg\" height=\"24px\" viewBox=\"0 -960 960 960\">\n",
              "    <path d=\"M120-120v-720h720v720H120Zm60-500h600v-160H180v160Zm220 220h160v-160H400v160Zm0 220h160v-160H400v160ZM180-400h160v-160H180v160Zm440 0h160v-160H620v160ZM180-180h160v-160H180v160Zm440 0h160v-160H620v160Z\"/>\n",
              "  </svg>\n",
              "    </button>\n",
              "\n",
              "  <style>\n",
              "    .colab-df-container {\n",
              "      display:flex;\n",
              "      gap: 12px;\n",
              "    }\n",
              "\n",
              "    .colab-df-convert {\n",
              "      background-color: #E8F0FE;\n",
              "      border: none;\n",
              "      border-radius: 50%;\n",
              "      cursor: pointer;\n",
              "      display: none;\n",
              "      fill: #1967D2;\n",
              "      height: 32px;\n",
              "      padding: 0 0 0 0;\n",
              "      width: 32px;\n",
              "    }\n",
              "\n",
              "    .colab-df-convert:hover {\n",
              "      background-color: #E2EBFA;\n",
              "      box-shadow: 0px 1px 2px rgba(60, 64, 67, 0.3), 0px 1px 3px 1px rgba(60, 64, 67, 0.15);\n",
              "      fill: #174EA6;\n",
              "    }\n",
              "\n",
              "    .colab-df-buttons div {\n",
              "      margin-bottom: 4px;\n",
              "    }\n",
              "\n",
              "    [theme=dark] .colab-df-convert {\n",
              "      background-color: #3B4455;\n",
              "      fill: #D2E3FC;\n",
              "    }\n",
              "\n",
              "    [theme=dark] .colab-df-convert:hover {\n",
              "      background-color: #434B5C;\n",
              "      box-shadow: 0px 1px 3px 1px rgba(0, 0, 0, 0.15);\n",
              "      filter: drop-shadow(0px 1px 2px rgba(0, 0, 0, 0.3));\n",
              "      fill: #FFFFFF;\n",
              "    }\n",
              "  </style>\n",
              "\n",
              "    <script>\n",
              "      const buttonEl =\n",
              "        document.querySelector('#df-aae11b61-cb47-4b6a-992e-ad6140949939 button.colab-df-convert');\n",
              "      buttonEl.style.display =\n",
              "        google.colab.kernel.accessAllowed ? 'block' : 'none';\n",
              "\n",
              "      async function convertToInteractive(key) {\n",
              "        const element = document.querySelector('#df-aae11b61-cb47-4b6a-992e-ad6140949939');\n",
              "        const dataTable =\n",
              "          await google.colab.kernel.invokeFunction('convertToInteractive',\n",
              "                                                    [key], {});\n",
              "        if (!dataTable) return;\n",
              "\n",
              "        const docLinkHtml = 'Like what you see? Visit the ' +\n",
              "          '<a target=\"_blank\" href=https://colab.research.google.com/notebooks/data_table.ipynb>data table notebook</a>'\n",
              "          + ' to learn more about interactive tables.';\n",
              "        element.innerHTML = '';\n",
              "        dataTable['output_type'] = 'display_data';\n",
              "        await google.colab.output.renderOutput(dataTable, element);\n",
              "        const docLink = document.createElement('div');\n",
              "        docLink.innerHTML = docLinkHtml;\n",
              "        element.appendChild(docLink);\n",
              "      }\n",
              "    </script>\n",
              "  </div>\n",
              "\n",
              "\n",
              "<div id=\"df-51375668-374d-4cf4-9eed-337f738ffc06\">\n",
              "  <button class=\"colab-df-quickchart\" onclick=\"quickchart('df-51375668-374d-4cf4-9eed-337f738ffc06')\"\n",
              "            title=\"Suggest charts.\"\n",
              "            style=\"display:none;\">\n",
              "\n",
              "<svg xmlns=\"http://www.w3.org/2000/svg\" height=\"24px\"viewBox=\"0 0 24 24\"\n",
              "     width=\"24px\">\n",
              "    <g>\n",
              "        <path d=\"M19 3H5c-1.1 0-2 .9-2 2v14c0 1.1.9 2 2 2h14c1.1 0 2-.9 2-2V5c0-1.1-.9-2-2-2zM9 17H7v-7h2v7zm4 0h-2V7h2v10zm4 0h-2v-4h2v4z\"/>\n",
              "    </g>\n",
              "</svg>\n",
              "  </button>\n",
              "\n",
              "<style>\n",
              "  .colab-df-quickchart {\n",
              "      --bg-color: #E8F0FE;\n",
              "      --fill-color: #1967D2;\n",
              "      --hover-bg-color: #E2EBFA;\n",
              "      --hover-fill-color: #174EA6;\n",
              "      --disabled-fill-color: #AAA;\n",
              "      --disabled-bg-color: #DDD;\n",
              "  }\n",
              "\n",
              "  [theme=dark] .colab-df-quickchart {\n",
              "      --bg-color: #3B4455;\n",
              "      --fill-color: #D2E3FC;\n",
              "      --hover-bg-color: #434B5C;\n",
              "      --hover-fill-color: #FFFFFF;\n",
              "      --disabled-bg-color: #3B4455;\n",
              "      --disabled-fill-color: #666;\n",
              "  }\n",
              "\n",
              "  .colab-df-quickchart {\n",
              "    background-color: var(--bg-color);\n",
              "    border: none;\n",
              "    border-radius: 50%;\n",
              "    cursor: pointer;\n",
              "    display: none;\n",
              "    fill: var(--fill-color);\n",
              "    height: 32px;\n",
              "    padding: 0;\n",
              "    width: 32px;\n",
              "  }\n",
              "\n",
              "  .colab-df-quickchart:hover {\n",
              "    background-color: var(--hover-bg-color);\n",
              "    box-shadow: 0 1px 2px rgba(60, 64, 67, 0.3), 0 1px 3px 1px rgba(60, 64, 67, 0.15);\n",
              "    fill: var(--button-hover-fill-color);\n",
              "  }\n",
              "\n",
              "  .colab-df-quickchart-complete:disabled,\n",
              "  .colab-df-quickchart-complete:disabled:hover {\n",
              "    background-color: var(--disabled-bg-color);\n",
              "    fill: var(--disabled-fill-color);\n",
              "    box-shadow: none;\n",
              "  }\n",
              "\n",
              "  .colab-df-spinner {\n",
              "    border: 2px solid var(--fill-color);\n",
              "    border-color: transparent;\n",
              "    border-bottom-color: var(--fill-color);\n",
              "    animation:\n",
              "      spin 1s steps(1) infinite;\n",
              "  }\n",
              "\n",
              "  @keyframes spin {\n",
              "    0% {\n",
              "      border-color: transparent;\n",
              "      border-bottom-color: var(--fill-color);\n",
              "      border-left-color: var(--fill-color);\n",
              "    }\n",
              "    20% {\n",
              "      border-color: transparent;\n",
              "      border-left-color: var(--fill-color);\n",
              "      border-top-color: var(--fill-color);\n",
              "    }\n",
              "    30% {\n",
              "      border-color: transparent;\n",
              "      border-left-color: var(--fill-color);\n",
              "      border-top-color: var(--fill-color);\n",
              "      border-right-color: var(--fill-color);\n",
              "    }\n",
              "    40% {\n",
              "      border-color: transparent;\n",
              "      border-right-color: var(--fill-color);\n",
              "      border-top-color: var(--fill-color);\n",
              "    }\n",
              "    60% {\n",
              "      border-color: transparent;\n",
              "      border-right-color: var(--fill-color);\n",
              "    }\n",
              "    80% {\n",
              "      border-color: transparent;\n",
              "      border-right-color: var(--fill-color);\n",
              "      border-bottom-color: var(--fill-color);\n",
              "    }\n",
              "    90% {\n",
              "      border-color: transparent;\n",
              "      border-bottom-color: var(--fill-color);\n",
              "    }\n",
              "  }\n",
              "</style>\n",
              "\n",
              "  <script>\n",
              "    async function quickchart(key) {\n",
              "      const quickchartButtonEl =\n",
              "        document.querySelector('#' + key + ' button');\n",
              "      quickchartButtonEl.disabled = true;  // To prevent multiple clicks.\n",
              "      quickchartButtonEl.classList.add('colab-df-spinner');\n",
              "      try {\n",
              "        const charts = await google.colab.kernel.invokeFunction(\n",
              "            'suggestCharts', [key], {});\n",
              "      } catch (error) {\n",
              "        console.error('Error during call to suggestCharts:', error);\n",
              "      }\n",
              "      quickchartButtonEl.classList.remove('colab-df-spinner');\n",
              "      quickchartButtonEl.classList.add('colab-df-quickchart-complete');\n",
              "    }\n",
              "    (() => {\n",
              "      let quickchartButtonEl =\n",
              "        document.querySelector('#df-51375668-374d-4cf4-9eed-337f738ffc06 button');\n",
              "      quickchartButtonEl.style.display =\n",
              "        google.colab.kernel.accessAllowed ? 'block' : 'none';\n",
              "    })();\n",
              "  </script>\n",
              "</div>\n",
              "    </div>\n",
              "  </div>\n"
            ],
            "text/plain": [
              "   Age  Total_Bilirubin  Direct_Bilirubin  Alkaline_Phosphotase  \\\n",
              "0   65              0.7               0.1                   187   \n",
              "1   62             10.9               5.5                   699   \n",
              "\n",
              "   Alamine_Aminotransferase  Aspartate_Aminotransferase  Total_Protiens  \\\n",
              "0                        16                          18             6.8   \n",
              "1                        64                         100             7.5   \n",
              "\n",
              "   Albumin  Albumin_and_Globulin_Ratio Dataset  \n",
              "0      3.3                        0.90     Yes  \n",
              "1      3.2                        0.74     Yes  "
            ]
          },
          "execution_count": 42,
          "metadata": {},
          "output_type": "execute_result"
        }
      ],
      "source": [
        "#Printing first 2 rows of the dataset\n",
        "# print(forest_tbl.iloc[:2])\n",
        "liverdisease_tbl.head(2)"
      ]
    },
    {
      "cell_type": "code",
      "execution_count": 43,
      "metadata": {
        "colab": {
          "base_uri": "https://localhost:8080/"
        },
        "id": "TojPkZzRFsUq",
        "outputId": "9fefe955-920c-4c03-a080-9e698c62b837"
      },
      "outputs": [
        {
          "name": "stdout",
          "output_type": "stream",
          "text": [
            "<class 'pandas.core.frame.DataFrame'>\n",
            "RangeIndex: 583 entries, 0 to 582\n",
            "Data columns (total 10 columns):\n",
            " #   Column                      Non-Null Count  Dtype  \n",
            "---  ------                      --------------  -----  \n",
            " 0   Age                         583 non-null    int64  \n",
            " 1   Total_Bilirubin             583 non-null    float64\n",
            " 2   Direct_Bilirubin            583 non-null    float64\n",
            " 3   Alkaline_Phosphotase        583 non-null    int64  \n",
            " 4   Alamine_Aminotransferase    583 non-null    int64  \n",
            " 5   Aspartate_Aminotransferase  583 non-null    int64  \n",
            " 6   Total_Protiens              583 non-null    float64\n",
            " 7   Albumin                     583 non-null    float64\n",
            " 8   Albumin_and_Globulin_Ratio  579 non-null    float64\n",
            " 9   Dataset                     583 non-null    object \n",
            "dtypes: float64(5), int64(4), object(1)\n",
            "memory usage: 45.7+ KB\n"
          ]
        }
      ],
      "source": [
        "liverdisease_tbl.info()"
      ]
    },
    {
      "cell_type": "code",
      "execution_count": 44,
      "metadata": {
        "colab": {
          "base_uri": "https://localhost:8080/",
          "height": 508
        },
        "id": "Vk4iHKukF1kV",
        "outputId": "452693b0-1d7f-4c16-f864-99ef5915bf36"
      },
      "outputs": [
        {
          "data": {
            "text/html": [
              "\n",
              "  <div id=\"df-f8907dfb-b5c4-44c4-a261-8d812419dacf\" class=\"colab-df-container\">\n",
              "    <div>\n",
              "<style scoped>\n",
              "    .dataframe tbody tr th:only-of-type {\n",
              "        vertical-align: middle;\n",
              "    }\n",
              "\n",
              "    .dataframe tbody tr th {\n",
              "        vertical-align: top;\n",
              "    }\n",
              "\n",
              "    .dataframe thead th {\n",
              "        text-align: right;\n",
              "    }\n",
              "</style>\n",
              "<table border=\"1\" class=\"dataframe\">\n",
              "  <thead>\n",
              "    <tr style=\"text-align: right;\">\n",
              "      <th></th>\n",
              "      <th>Age</th>\n",
              "      <th>Total_Bilirubin</th>\n",
              "      <th>Direct_Bilirubin</th>\n",
              "      <th>Alkaline_Phosphotase</th>\n",
              "      <th>Alamine_Aminotransferase</th>\n",
              "      <th>Aspartate_Aminotransferase</th>\n",
              "      <th>Total_Protiens</th>\n",
              "      <th>Albumin</th>\n",
              "      <th>Albumin_and_Globulin_Ratio</th>\n",
              "      <th>Dataset</th>\n",
              "    </tr>\n",
              "  </thead>\n",
              "  <tbody>\n",
              "    <tr>\n",
              "      <th>count</th>\n",
              "      <td>583.000000</td>\n",
              "      <td>583.000000</td>\n",
              "      <td>583.000000</td>\n",
              "      <td>583.000000</td>\n",
              "      <td>583.000000</td>\n",
              "      <td>583.000000</td>\n",
              "      <td>583.000000</td>\n",
              "      <td>583.000000</td>\n",
              "      <td>579.000000</td>\n",
              "      <td>583</td>\n",
              "    </tr>\n",
              "    <tr>\n",
              "      <th>unique</th>\n",
              "      <td>NaN</td>\n",
              "      <td>NaN</td>\n",
              "      <td>NaN</td>\n",
              "      <td>NaN</td>\n",
              "      <td>NaN</td>\n",
              "      <td>NaN</td>\n",
              "      <td>NaN</td>\n",
              "      <td>NaN</td>\n",
              "      <td>NaN</td>\n",
              "      <td>2</td>\n",
              "    </tr>\n",
              "    <tr>\n",
              "      <th>top</th>\n",
              "      <td>NaN</td>\n",
              "      <td>NaN</td>\n",
              "      <td>NaN</td>\n",
              "      <td>NaN</td>\n",
              "      <td>NaN</td>\n",
              "      <td>NaN</td>\n",
              "      <td>NaN</td>\n",
              "      <td>NaN</td>\n",
              "      <td>NaN</td>\n",
              "      <td>Yes</td>\n",
              "    </tr>\n",
              "    <tr>\n",
              "      <th>freq</th>\n",
              "      <td>NaN</td>\n",
              "      <td>NaN</td>\n",
              "      <td>NaN</td>\n",
              "      <td>NaN</td>\n",
              "      <td>NaN</td>\n",
              "      <td>NaN</td>\n",
              "      <td>NaN</td>\n",
              "      <td>NaN</td>\n",
              "      <td>NaN</td>\n",
              "      <td>416</td>\n",
              "    </tr>\n",
              "    <tr>\n",
              "      <th>mean</th>\n",
              "      <td>44.746141</td>\n",
              "      <td>3.298799</td>\n",
              "      <td>1.486106</td>\n",
              "      <td>290.576329</td>\n",
              "      <td>80.713551</td>\n",
              "      <td>109.910806</td>\n",
              "      <td>6.483190</td>\n",
              "      <td>3.141852</td>\n",
              "      <td>0.947064</td>\n",
              "      <td>NaN</td>\n",
              "    </tr>\n",
              "    <tr>\n",
              "      <th>std</th>\n",
              "      <td>16.189833</td>\n",
              "      <td>6.209522</td>\n",
              "      <td>2.808498</td>\n",
              "      <td>242.937989</td>\n",
              "      <td>182.620356</td>\n",
              "      <td>288.918529</td>\n",
              "      <td>1.085451</td>\n",
              "      <td>0.795519</td>\n",
              "      <td>0.319592</td>\n",
              "      <td>NaN</td>\n",
              "    </tr>\n",
              "    <tr>\n",
              "      <th>min</th>\n",
              "      <td>4.000000</td>\n",
              "      <td>0.400000</td>\n",
              "      <td>0.100000</td>\n",
              "      <td>63.000000</td>\n",
              "      <td>10.000000</td>\n",
              "      <td>10.000000</td>\n",
              "      <td>2.700000</td>\n",
              "      <td>0.900000</td>\n",
              "      <td>0.300000</td>\n",
              "      <td>NaN</td>\n",
              "    </tr>\n",
              "    <tr>\n",
              "      <th>10%</th>\n",
              "      <td>23.000000</td>\n",
              "      <td>0.700000</td>\n",
              "      <td>0.100000</td>\n",
              "      <td>150.000000</td>\n",
              "      <td>18.000000</td>\n",
              "      <td>19.000000</td>\n",
              "      <td>5.100000</td>\n",
              "      <td>2.000000</td>\n",
              "      <td>0.546000</td>\n",
              "      <td>NaN</td>\n",
              "    </tr>\n",
              "    <tr>\n",
              "      <th>25%</th>\n",
              "      <td>33.000000</td>\n",
              "      <td>0.800000</td>\n",
              "      <td>0.200000</td>\n",
              "      <td>175.500000</td>\n",
              "      <td>23.000000</td>\n",
              "      <td>25.000000</td>\n",
              "      <td>5.800000</td>\n",
              "      <td>2.600000</td>\n",
              "      <td>0.700000</td>\n",
              "      <td>NaN</td>\n",
              "    </tr>\n",
              "    <tr>\n",
              "      <th>50%</th>\n",
              "      <td>45.000000</td>\n",
              "      <td>1.000000</td>\n",
              "      <td>0.300000</td>\n",
              "      <td>208.000000</td>\n",
              "      <td>35.000000</td>\n",
              "      <td>42.000000</td>\n",
              "      <td>6.600000</td>\n",
              "      <td>3.100000</td>\n",
              "      <td>0.930000</td>\n",
              "      <td>NaN</td>\n",
              "    </tr>\n",
              "    <tr>\n",
              "      <th>75%</th>\n",
              "      <td>58.000000</td>\n",
              "      <td>2.600000</td>\n",
              "      <td>1.300000</td>\n",
              "      <td>298.000000</td>\n",
              "      <td>60.500000</td>\n",
              "      <td>87.000000</td>\n",
              "      <td>7.200000</td>\n",
              "      <td>3.800000</td>\n",
              "      <td>1.100000</td>\n",
              "      <td>NaN</td>\n",
              "    </tr>\n",
              "    <tr>\n",
              "      <th>90%</th>\n",
              "      <td>66.000000</td>\n",
              "      <td>7.860000</td>\n",
              "      <td>4.080000</td>\n",
              "      <td>511.400000</td>\n",
              "      <td>140.000000</td>\n",
              "      <td>190.000000</td>\n",
              "      <td>7.900000</td>\n",
              "      <td>4.100000</td>\n",
              "      <td>1.308000</td>\n",
              "      <td>NaN</td>\n",
              "    </tr>\n",
              "    <tr>\n",
              "      <th>95%</th>\n",
              "      <td>72.000000</td>\n",
              "      <td>16.350000</td>\n",
              "      <td>8.400000</td>\n",
              "      <td>698.100000</td>\n",
              "      <td>232.000000</td>\n",
              "      <td>400.900000</td>\n",
              "      <td>8.100000</td>\n",
              "      <td>4.390000</td>\n",
              "      <td>1.500000</td>\n",
              "      <td>NaN</td>\n",
              "    </tr>\n",
              "    <tr>\n",
              "      <th>max</th>\n",
              "      <td>90.000000</td>\n",
              "      <td>75.000000</td>\n",
              "      <td>19.700000</td>\n",
              "      <td>2110.000000</td>\n",
              "      <td>2000.000000</td>\n",
              "      <td>4929.000000</td>\n",
              "      <td>9.600000</td>\n",
              "      <td>5.500000</td>\n",
              "      <td>2.800000</td>\n",
              "      <td>NaN</td>\n",
              "    </tr>\n",
              "  </tbody>\n",
              "</table>\n",
              "</div>\n",
              "    <div class=\"colab-df-buttons\">\n",
              "\n",
              "  <div class=\"colab-df-container\">\n",
              "    <button class=\"colab-df-convert\" onclick=\"convertToInteractive('df-f8907dfb-b5c4-44c4-a261-8d812419dacf')\"\n",
              "            title=\"Convert this dataframe to an interactive table.\"\n",
              "            style=\"display:none;\">\n",
              "\n",
              "  <svg xmlns=\"http://www.w3.org/2000/svg\" height=\"24px\" viewBox=\"0 -960 960 960\">\n",
              "    <path d=\"M120-120v-720h720v720H120Zm60-500h600v-160H180v160Zm220 220h160v-160H400v160Zm0 220h160v-160H400v160ZM180-400h160v-160H180v160Zm440 0h160v-160H620v160ZM180-180h160v-160H180v160Zm440 0h160v-160H620v160Z\"/>\n",
              "  </svg>\n",
              "    </button>\n",
              "\n",
              "  <style>\n",
              "    .colab-df-container {\n",
              "      display:flex;\n",
              "      gap: 12px;\n",
              "    }\n",
              "\n",
              "    .colab-df-convert {\n",
              "      background-color: #E8F0FE;\n",
              "      border: none;\n",
              "      border-radius: 50%;\n",
              "      cursor: pointer;\n",
              "      display: none;\n",
              "      fill: #1967D2;\n",
              "      height: 32px;\n",
              "      padding: 0 0 0 0;\n",
              "      width: 32px;\n",
              "    }\n",
              "\n",
              "    .colab-df-convert:hover {\n",
              "      background-color: #E2EBFA;\n",
              "      box-shadow: 0px 1px 2px rgba(60, 64, 67, 0.3), 0px 1px 3px 1px rgba(60, 64, 67, 0.15);\n",
              "      fill: #174EA6;\n",
              "    }\n",
              "\n",
              "    .colab-df-buttons div {\n",
              "      margin-bottom: 4px;\n",
              "    }\n",
              "\n",
              "    [theme=dark] .colab-df-convert {\n",
              "      background-color: #3B4455;\n",
              "      fill: #D2E3FC;\n",
              "    }\n",
              "\n",
              "    [theme=dark] .colab-df-convert:hover {\n",
              "      background-color: #434B5C;\n",
              "      box-shadow: 0px 1px 3px 1px rgba(0, 0, 0, 0.15);\n",
              "      filter: drop-shadow(0px 1px 2px rgba(0, 0, 0, 0.3));\n",
              "      fill: #FFFFFF;\n",
              "    }\n",
              "  </style>\n",
              "\n",
              "    <script>\n",
              "      const buttonEl =\n",
              "        document.querySelector('#df-f8907dfb-b5c4-44c4-a261-8d812419dacf button.colab-df-convert');\n",
              "      buttonEl.style.display =\n",
              "        google.colab.kernel.accessAllowed ? 'block' : 'none';\n",
              "\n",
              "      async function convertToInteractive(key) {\n",
              "        const element = document.querySelector('#df-f8907dfb-b5c4-44c4-a261-8d812419dacf');\n",
              "        const dataTable =\n",
              "          await google.colab.kernel.invokeFunction('convertToInteractive',\n",
              "                                                    [key], {});\n",
              "        if (!dataTable) return;\n",
              "\n",
              "        const docLinkHtml = 'Like what you see? Visit the ' +\n",
              "          '<a target=\"_blank\" href=https://colab.research.google.com/notebooks/data_table.ipynb>data table notebook</a>'\n",
              "          + ' to learn more about interactive tables.';\n",
              "        element.innerHTML = '';\n",
              "        dataTable['output_type'] = 'display_data';\n",
              "        await google.colab.output.renderOutput(dataTable, element);\n",
              "        const docLink = document.createElement('div');\n",
              "        docLink.innerHTML = docLinkHtml;\n",
              "        element.appendChild(docLink);\n",
              "      }\n",
              "    </script>\n",
              "  </div>\n",
              "\n",
              "\n",
              "<div id=\"df-df3bafa9-3a20-4afc-b593-4489f9fa9ced\">\n",
              "  <button class=\"colab-df-quickchart\" onclick=\"quickchart('df-df3bafa9-3a20-4afc-b593-4489f9fa9ced')\"\n",
              "            title=\"Suggest charts.\"\n",
              "            style=\"display:none;\">\n",
              "\n",
              "<svg xmlns=\"http://www.w3.org/2000/svg\" height=\"24px\"viewBox=\"0 0 24 24\"\n",
              "     width=\"24px\">\n",
              "    <g>\n",
              "        <path d=\"M19 3H5c-1.1 0-2 .9-2 2v14c0 1.1.9 2 2 2h14c1.1 0 2-.9 2-2V5c0-1.1-.9-2-2-2zM9 17H7v-7h2v7zm4 0h-2V7h2v10zm4 0h-2v-4h2v4z\"/>\n",
              "    </g>\n",
              "</svg>\n",
              "  </button>\n",
              "\n",
              "<style>\n",
              "  .colab-df-quickchart {\n",
              "      --bg-color: #E8F0FE;\n",
              "      --fill-color: #1967D2;\n",
              "      --hover-bg-color: #E2EBFA;\n",
              "      --hover-fill-color: #174EA6;\n",
              "      --disabled-fill-color: #AAA;\n",
              "      --disabled-bg-color: #DDD;\n",
              "  }\n",
              "\n",
              "  [theme=dark] .colab-df-quickchart {\n",
              "      --bg-color: #3B4455;\n",
              "      --fill-color: #D2E3FC;\n",
              "      --hover-bg-color: #434B5C;\n",
              "      --hover-fill-color: #FFFFFF;\n",
              "      --disabled-bg-color: #3B4455;\n",
              "      --disabled-fill-color: #666;\n",
              "  }\n",
              "\n",
              "  .colab-df-quickchart {\n",
              "    background-color: var(--bg-color);\n",
              "    border: none;\n",
              "    border-radius: 50%;\n",
              "    cursor: pointer;\n",
              "    display: none;\n",
              "    fill: var(--fill-color);\n",
              "    height: 32px;\n",
              "    padding: 0;\n",
              "    width: 32px;\n",
              "  }\n",
              "\n",
              "  .colab-df-quickchart:hover {\n",
              "    background-color: var(--hover-bg-color);\n",
              "    box-shadow: 0 1px 2px rgba(60, 64, 67, 0.3), 0 1px 3px 1px rgba(60, 64, 67, 0.15);\n",
              "    fill: var(--button-hover-fill-color);\n",
              "  }\n",
              "\n",
              "  .colab-df-quickchart-complete:disabled,\n",
              "  .colab-df-quickchart-complete:disabled:hover {\n",
              "    background-color: var(--disabled-bg-color);\n",
              "    fill: var(--disabled-fill-color);\n",
              "    box-shadow: none;\n",
              "  }\n",
              "\n",
              "  .colab-df-spinner {\n",
              "    border: 2px solid var(--fill-color);\n",
              "    border-color: transparent;\n",
              "    border-bottom-color: var(--fill-color);\n",
              "    animation:\n",
              "      spin 1s steps(1) infinite;\n",
              "  }\n",
              "\n",
              "  @keyframes spin {\n",
              "    0% {\n",
              "      border-color: transparent;\n",
              "      border-bottom-color: var(--fill-color);\n",
              "      border-left-color: var(--fill-color);\n",
              "    }\n",
              "    20% {\n",
              "      border-color: transparent;\n",
              "      border-left-color: var(--fill-color);\n",
              "      border-top-color: var(--fill-color);\n",
              "    }\n",
              "    30% {\n",
              "      border-color: transparent;\n",
              "      border-left-color: var(--fill-color);\n",
              "      border-top-color: var(--fill-color);\n",
              "      border-right-color: var(--fill-color);\n",
              "    }\n",
              "    40% {\n",
              "      border-color: transparent;\n",
              "      border-right-color: var(--fill-color);\n",
              "      border-top-color: var(--fill-color);\n",
              "    }\n",
              "    60% {\n",
              "      border-color: transparent;\n",
              "      border-right-color: var(--fill-color);\n",
              "    }\n",
              "    80% {\n",
              "      border-color: transparent;\n",
              "      border-right-color: var(--fill-color);\n",
              "      border-bottom-color: var(--fill-color);\n",
              "    }\n",
              "    90% {\n",
              "      border-color: transparent;\n",
              "      border-bottom-color: var(--fill-color);\n",
              "    }\n",
              "  }\n",
              "</style>\n",
              "\n",
              "  <script>\n",
              "    async function quickchart(key) {\n",
              "      const quickchartButtonEl =\n",
              "        document.querySelector('#' + key + ' button');\n",
              "      quickchartButtonEl.disabled = true;  // To prevent multiple clicks.\n",
              "      quickchartButtonEl.classList.add('colab-df-spinner');\n",
              "      try {\n",
              "        const charts = await google.colab.kernel.invokeFunction(\n",
              "            'suggestCharts', [key], {});\n",
              "      } catch (error) {\n",
              "        console.error('Error during call to suggestCharts:', error);\n",
              "      }\n",
              "      quickchartButtonEl.classList.remove('colab-df-spinner');\n",
              "      quickchartButtonEl.classList.add('colab-df-quickchart-complete');\n",
              "    }\n",
              "    (() => {\n",
              "      let quickchartButtonEl =\n",
              "        document.querySelector('#df-df3bafa9-3a20-4afc-b593-4489f9fa9ced button');\n",
              "      quickchartButtonEl.style.display =\n",
              "        google.colab.kernel.accessAllowed ? 'block' : 'none';\n",
              "    })();\n",
              "  </script>\n",
              "</div>\n",
              "    </div>\n",
              "  </div>\n"
            ],
            "text/plain": [
              "               Age  Total_Bilirubin  Direct_Bilirubin  Alkaline_Phosphotase  \\\n",
              "count   583.000000       583.000000        583.000000            583.000000   \n",
              "unique         NaN              NaN               NaN                   NaN   \n",
              "top            NaN              NaN               NaN                   NaN   \n",
              "freq           NaN              NaN               NaN                   NaN   \n",
              "mean     44.746141         3.298799          1.486106            290.576329   \n",
              "std      16.189833         6.209522          2.808498            242.937989   \n",
              "min       4.000000         0.400000          0.100000             63.000000   \n",
              "10%      23.000000         0.700000          0.100000            150.000000   \n",
              "25%      33.000000         0.800000          0.200000            175.500000   \n",
              "50%      45.000000         1.000000          0.300000            208.000000   \n",
              "75%      58.000000         2.600000          1.300000            298.000000   \n",
              "90%      66.000000         7.860000          4.080000            511.400000   \n",
              "95%      72.000000        16.350000          8.400000            698.100000   \n",
              "max      90.000000        75.000000         19.700000           2110.000000   \n",
              "\n",
              "        Alamine_Aminotransferase  Aspartate_Aminotransferase  Total_Protiens  \\\n",
              "count                 583.000000                  583.000000      583.000000   \n",
              "unique                       NaN                         NaN             NaN   \n",
              "top                          NaN                         NaN             NaN   \n",
              "freq                         NaN                         NaN             NaN   \n",
              "mean                   80.713551                  109.910806        6.483190   \n",
              "std                   182.620356                  288.918529        1.085451   \n",
              "min                    10.000000                   10.000000        2.700000   \n",
              "10%                    18.000000                   19.000000        5.100000   \n",
              "25%                    23.000000                   25.000000        5.800000   \n",
              "50%                    35.000000                   42.000000        6.600000   \n",
              "75%                    60.500000                   87.000000        7.200000   \n",
              "90%                   140.000000                  190.000000        7.900000   \n",
              "95%                   232.000000                  400.900000        8.100000   \n",
              "max                  2000.000000                 4929.000000        9.600000   \n",
              "\n",
              "           Albumin  Albumin_and_Globulin_Ratio Dataset  \n",
              "count   583.000000                  579.000000     583  \n",
              "unique         NaN                         NaN       2  \n",
              "top            NaN                         NaN     Yes  \n",
              "freq           NaN                         NaN     416  \n",
              "mean      3.141852                    0.947064     NaN  \n",
              "std       0.795519                    0.319592     NaN  \n",
              "min       0.900000                    0.300000     NaN  \n",
              "10%       2.000000                    0.546000     NaN  \n",
              "25%       2.600000                    0.700000     NaN  \n",
              "50%       3.100000                    0.930000     NaN  \n",
              "75%       3.800000                    1.100000     NaN  \n",
              "90%       4.100000                    1.308000     NaN  \n",
              "95%       4.390000                    1.500000     NaN  \n",
              "max       5.500000                    2.800000     NaN  "
            ]
          },
          "execution_count": 44,
          "metadata": {},
          "output_type": "execute_result"
        }
      ],
      "source": [
        "liverdisease_tbl.describe(include=\"all\", percentiles = [0.1, 0.25, 0.5, 0.75, 0.9, 0.95])"
      ]
    },
    {
      "cell_type": "markdown",
      "metadata": {
        "id": "f-Qs1M4bOaZC"
      },
      "source": [
        "2.b Comment on class imbalance with appropriate visualization method.\n",
        "Answer - Look at the below plot we can see a good distribution among Age, Alkaline_Phosphotase, Direct_Bilirubin, Total_Proteins, Albumin, Albumin_and_Globulin_Ratio. However, Total_Bilirubin, Direct_Bilirubin, Alamine_Aminotransferase, Aspartate_Aminotransferase shows a partial distributions with majority values ranging between o-20 and providing us less capabilities on identifying the output. Considering how important all of the other factors are hence Direct_Bilirubin, Aspartate_Aminotransferase will be used in the model."
      ]
    },
    {
      "cell_type": "markdown",
      "metadata": {
        "id": "daVZFLPYQZau"
      },
      "source": [
        "1.c Provide appropriate data visualizations to get an insight about the dataset. This also helps in understanding the distribution in datasets"
      ]
    },
    {
      "cell_type": "code",
      "execution_count": 45,
      "metadata": {
        "colab": {
          "base_uri": "https://localhost:8080/",
          "height": 717
        },
        "id": "nfD9s40FGGFy",
        "outputId": "7950de4e-407c-4647-f6c8-cb40fe05d286"
      },
      "outputs": [
        {
          "data": {
            "text/plain": [
              "<Figure size 100x300 with 0 Axes>"
            ]
          },
          "metadata": {},
          "output_type": "display_data"
        },
        {
          "data": {
            "image/png": "[encoded data removed]",
            "text/plain": [
              "<Figure size 1000x800 with 9 Axes>"
            ]
          },
          "metadata": {},
          "output_type": "display_data"
        }
      ],
      "source": [
        "'''\n",
        "Plot X & Y\n",
        "'''\n",
        "plt.figure(figsize=(1,3))\n",
        "liverdisease_tbl.hist(bins=50, figsize=(10, 8))\n",
        "plt.show()"
      ]
    },
    {
      "cell_type": "markdown",
      "metadata": {
        "id": "gVi9-f7CQy6b"
      },
      "source": [
        "2.c. Do the correlational analysis on the dataset. Provide a visualization for the same. Will this correlational analysis have an effect on feature selection that you will perform in the next step? Justify your answer.\n",
        "\n",
        "Answer - Looking at the correlation table among attributes, we can clearly see how the entire dataset is moving towards a positive correlation, with weaker correlation between Total Proteins with all the other attributes except for albumin, which is clearly explained by this table as albumin is a component of total_protein"
      ]
    },
    {
      "cell_type": "code",
      "execution_count": 46,
      "metadata": {
        "colab": {
          "base_uri": "https://localhost:8080/",
          "height": 614
        },
        "id": "bY12HIwbJDMy",
        "outputId": "032782d6-c06e-4450-c4cc-66f13b2ce2c0"
      },
      "outputs": [
        {
          "name": "stderr",
          "output_type": "stream",
          "text": [
            "<ipython-input-46-6d8e28933a54>:2: FutureWarning: The default value of numeric_only in DataFrame.corr is deprecated. In a future version, it will default to False. Select only valid columns or specify the value of numeric_only to silence this warning.\n",
            "  sns.heatmap(liverdisease_tbl.corr(),annot=True)\n"
          ]
        },
        {
          "data": {
            "image/png": "[encoded data removed]",
            "text/plain": [
              "<Figure size 1000x400 with 2 Axes>"
            ]
          },
          "metadata": {},
          "output_type": "display_data"
        }
      ],
      "source": [
        "plt.figure(figsize=(10,4))\n",
        "sns.heatmap(liverdisease_tbl.corr(),annot=True)\n",
        "plt.show()"
      ]
    },
    {
      "cell_type": "markdown",
      "metadata": {
        "id": "kFGMuDH6R9kQ"
      },
      "source": [
        "**3. Data Pre-processing and cleaning [2M]**"
      ]
    },
    {
      "cell_type": "markdown",
      "metadata": {
        "id": "qOJvnu-ISFDO"
      },
      "source": [
        "3.a Do the appropriate pre-processing of the data like identifying NULL or Missing Values if any, handling of outliers if present in the dataset, skewed data etc. Mention the pre-processing steps performed in the markdown cell. Explore a few latest data balancing tasks and its effect on model evaluation parameters."
      ]
    },
    {
      "cell_type": "code",
      "execution_count": 47,
      "metadata": {
        "colab": {
          "base_uri": "https://localhost:8080/"
        },
        "id": "EZSqBDEpFLfr",
        "outputId": "45867130-64f4-4193-c749-8de327178076"
      },
      "outputs": [
        {
          "data": {
            "text/plain": [
              "Age                           0\n",
              "Total_Bilirubin               0\n",
              "Direct_Bilirubin              0\n",
              "Alkaline_Phosphotase          0\n",
              "Alamine_Aminotransferase      0\n",
              "Aspartate_Aminotransferase    0\n",
              "Total_Protiens                0\n",
              "Albumin                       0\n",
              "Albumin_and_Globulin_Ratio    4\n",
              "Dataset                       0\n",
              "dtype: int64"
            ]
          },
          "execution_count": 47,
          "metadata": {},
          "output_type": "execute_result"
        }
      ],
      "source": [
        "#Checking for null values since the rest of the attributes do not have any null value except for albumin and globulin ratio, hence no need to clean the value or remove from table.\n",
        "liverdisease_tbl.isnull().sum()"
      ]
    },
    {
      "cell_type": "code",
      "execution_count": 48,
      "metadata": {
        "colab": {
          "base_uri": "https://localhost:8080/",
          "height": 1000
        },
        "id": "63EVrvzvTb8H",
        "outputId": "8fe1c102-443d-4802-8ea3-946402743f06"
      },
      "outputs": [
        {
          "data": {
            "text/plain": [
              "<Axes: xlabel='Albumin', ylabel='Dataset'>"
            ]
          },
          "execution_count": 48,
          "metadata": {},
          "output_type": "execute_result"
        },
        {
          "data": {
            "image/png": "[encoded data removed]",
            "text/plain": [
              "<Figure size 640x480 with 1 Axes>"
            ]
          },
          "metadata": {},
          "output_type": "display_data"
        },
        {
          "data": {
            "image/png": "[encoded data removed]",
            "text/plain": [
              "<Figure size 640x480 with 1 Axes>"
            ]
          },
          "metadata": {},
          "output_type": "display_data"
        },
        {
          "data": {
            "image/png": "[encoded data removed]",
            "text/plain": [
              "<Figure size 640x480 with 1 Axes>"
            ]
          },
          "metadata": {},
          "output_type": "display_data"
        },
        {
          "data": {
            "image/png": "[encoded data removed]",
            "text/plain": [
              "<Figure size 640x480 with 1 Axes>"
            ]
          },
          "metadata": {},
          "output_type": "display_data"
        }
      ],
      "source": [
        "'''\n",
        "Balanced Spread\n",
        "'''\n",
        "liverdisease_tbl.plot.scatter(\"Age\",\"Dataset\")\n",
        "liverdisease_tbl.plot.scatter(\"Total_Protiens\",\"Dataset\")\n",
        "liverdisease_tbl.plot.scatter(\"Alkaline_Phosphotase\",\"Dataset\")\n",
        "liverdisease_tbl.plot.scatter(\"Albumin\",\"Dataset\")"
      ]
    },
    {
      "cell_type": "code",
      "execution_count": 49,
      "metadata": {
        "colab": {
          "base_uri": "https://localhost:8080/"
        },
        "id": "fBX1Gnurx0W8",
        "outputId": "4c1a1f23-f589-4580-d199-366831dfc38f"
      },
      "outputs": [
        {
          "name": "stdout",
          "output_type": "stream",
          "text": [
            "['Age', 'Total_Bilirubin', 'Direct_Bilirubin', 'Alkaline_Phosphotase', 'Alamine_Aminotransferase', 'Aspartate_Aminotransferase', 'Total_Protiens', 'Albumin', 'Albumin_and_Globulin_Ratio', 'Dataset', 'X1-high_level']\n"
          ]
        }
      ],
      "source": [
        "liverdisease_tbl[\"X1-high_level\"] = liverdisease_tbl[\"Age\"]+liverdisease_tbl[\"Total_Bilirubin\"]+liverdisease_tbl[\"Alkaline_Phosphotase\"]+liverdisease_tbl[\"Aspartate_Aminotransferase\"]\n",
        "print(liverdisease_tbl.columns.to_list())"
      ]
    },
    {
      "cell_type": "markdown",
      "metadata": {
        "id": "vUB6vH57qY3a"
      },
      "source": [
        "3.b. Apply appropriate feature engineering techniques for them. Apply the feature transformation techniques like Standardization, Normalization, etc. You are free to apply the appropriate transformations depending upon the structure and the\n",
        "complexity of your dataset. Provide proper justification. Techniques used without justification will not be awarded marks. Explore a few techniques for identifying feature importance for your feature engineering task."
      ]
    },
    {
      "cell_type": "code",
      "execution_count": 50,
      "metadata": {
        "colab": {
          "base_uri": "https://localhost:8080/"
        },
        "id": "mEkas7tgYGMt",
        "outputId": "181f6863-6fde-456a-f7b1-6ca7f76e6598"
      },
      "outputs": [
        {
          "name": "stdout",
          "output_type": "stream",
          "text": [
            "    Dataset  X1-high_level  X2-low_level\n",
            "0       Yes          270.7          10.1\n",
            "1       Yes          871.9          10.7\n",
            "2       Yes          627.3          10.3\n",
            "3       Yes          261.0          10.2\n",
            "4       Yes          329.9           9.7\n",
            "..      ...            ...           ...\n",
            "578      No          594.5           7.5\n",
            "579     Yes          169.6           9.2\n",
            "580     Yes          346.8           9.6\n",
            "581     Yes          248.3          10.2\n",
            "582      No          279.0          11.7\n",
            "\n",
            "[583 rows x 3 columns]\n"
          ]
        }
      ],
      "source": [
        "'''Since, majority are numerical components thus taking sum of all the important components. In here we are using 2 components high level leading to liver disease (X1-high_level) and low level leading to leading to liver disease (X2-low_level)'''\n",
        "liverdisease_tbl[\"X2-low_level\"] = liverdisease_tbl[\"Albumin\"]+liverdisease_tbl[\"Total_Protiens\"]\n",
        "required_columns = [ 'Dataset', 'X1-high_level','X2-low_level' ]\n",
        "liverdisease_df = liverdisease_tbl[required_columns]\n",
        "print(liverdisease_df)\n"
      ]
    },
    {
      "cell_type": "markdown",
      "metadata": {
        "id": "ogRoc95XXbda"
      },
      "source": [
        "*Calculating zscores to identify Outliers*\n",
        "\n",
        "Zscore is one of the most critical formula's used to identify the distance of a point from its mean. Thus, this becomes one of our critical cases in identifying outliers.\n",
        "\n",
        "Outliers can significantly impact the mean of a good distribution.Hence, they are critical in ensuring anomalies in the dataset and removing them to minimize the chances of error in prediction."
      ]
    },
    {
      "cell_type": "code",
      "execution_count": 51,
      "metadata": {
        "colab": {
          "base_uri": "https://localhost:8080/"
        },
        "id": "A-57WgqyV2gF",
        "outputId": "45715c70-3197-4d1c-fb60-4ed4d6b072c3"
      },
      "outputs": [
        {
          "name": "stdout",
          "output_type": "stream",
          "text": [
            "    Dataset  X1-high_level  X2-low_level  zscore_X1  zscore_X2\n",
            "0       Yes          270.7          10.1  -0.433993   0.267198\n",
            "1       Yes          871.9          10.7   1.033215   0.604741\n",
            "2       Yes          627.3          10.3   0.436277   0.379712\n",
            "3       Yes          261.0          10.2  -0.457666   0.323455\n",
            "4       Yes          329.9           9.7  -0.289518   0.042169\n",
            "..      ...            ...           ...        ...        ...\n",
            "578      No          594.5           7.5   0.356230  -1.195490\n",
            "579     Yes          169.6           9.2  -0.680725  -0.239117\n",
            "580     Yes          346.8           9.6  -0.248274  -0.014088\n",
            "581     Yes          248.3          10.2  -0.488660   0.323455\n",
            "582      No          279.0          11.7  -0.413737   1.167313\n",
            "\n",
            "[583 rows x 5 columns]\n"
          ]
        },
        {
          "name": "stderr",
          "output_type": "stream",
          "text": [
            "<ipython-input-51-6d08f18f0ccb>:2: SettingWithCopyWarning: \n",
            "A value is trying to be set on a copy of a slice from a DataFrame.\n",
            "Try using .loc[row_indexer,col_indexer] = value instead\n",
            "\n",
            "See the caveats in the documentation: https://pandas.pydata.org/pandas-docs/stable/user_guide/indexing.html#returning-a-view-versus-a-copy\n",
            "  liverdisease_df[['zscore_X1','zscore_X2']] = liverdisease_df[[ 'X1-high_level', 'X2-low_level']].apply(zscore)\n",
            "<ipython-input-51-6d08f18f0ccb>:2: SettingWithCopyWarning: \n",
            "A value is trying to be set on a copy of a slice from a DataFrame.\n",
            "Try using .loc[row_indexer,col_indexer] = value instead\n",
            "\n",
            "See the caveats in the documentation: https://pandas.pydata.org/pandas-docs/stable/user_guide/indexing.html#returning-a-view-versus-a-copy\n",
            "  liverdisease_df[['zscore_X1','zscore_X2']] = liverdisease_df[[ 'X1-high_level', 'X2-low_level']].apply(zscore)\n"
          ]
        }
      ],
      "source": [
        "from scipy.stats import zscore\n",
        "liverdisease_df[['zscore_X1','zscore_X2']] = liverdisease_df[[ 'X1-high_level', 'X2-low_level']].apply(zscore)\n",
        "print(liverdisease_df)"
      ]
    },
    {
      "cell_type": "code",
      "execution_count": 52,
      "metadata": {
        "colab": {
          "base_uri": "https://localhost:8080/",
          "height": 300
        },
        "id": "Tp5yFPh3YmFe",
        "outputId": "fd6f2cc3-c5d5-45db-e529-653d617a36a1"
      },
      "outputs": [
        {
          "data": {
            "text/html": [
              "\n",
              "  <div id=\"df-58544b5c-ec3c-4f1f-b958-364e033fd10f\" class=\"colab-df-container\">\n",
              "    <div>\n",
              "<style scoped>\n",
              "    .dataframe tbody tr th:only-of-type {\n",
              "        vertical-align: middle;\n",
              "    }\n",
              "\n",
              "    .dataframe tbody tr th {\n",
              "        vertical-align: top;\n",
              "    }\n",
              "\n",
              "    .dataframe thead th {\n",
              "        text-align: right;\n",
              "    }\n",
              "</style>\n",
              "<table border=\"1\" class=\"dataframe\">\n",
              "  <thead>\n",
              "    <tr style=\"text-align: right;\">\n",
              "      <th></th>\n",
              "      <th>X1-high_level</th>\n",
              "      <th>X2-low_level</th>\n",
              "      <th>zscore_X1</th>\n",
              "      <th>zscore_X2</th>\n",
              "    </tr>\n",
              "  </thead>\n",
              "  <tbody>\n",
              "    <tr>\n",
              "      <th>count</th>\n",
              "      <td>583.000000</td>\n",
              "      <td>583.000000</td>\n",
              "      <td>5.830000e+02</td>\n",
              "      <td>5.830000e+02</td>\n",
              "    </tr>\n",
              "    <tr>\n",
              "      <th>mean</th>\n",
              "      <td>448.532075</td>\n",
              "      <td>9.625043</td>\n",
              "      <td>-7.312618e-17</td>\n",
              "      <td>-8.531388e-16</td>\n",
              "    </tr>\n",
              "    <tr>\n",
              "      <th>std</th>\n",
              "      <td>410.109513</td>\n",
              "      <td>1.779076</td>\n",
              "      <td>1.000859e+00</td>\n",
              "      <td>1.000859e+00</td>\n",
              "    </tr>\n",
              "    <tr>\n",
              "      <th>min</th>\n",
              "      <td>120.700000</td>\n",
              "      <td>3.600000</td>\n",
              "      <td>-8.000634e-01</td>\n",
              "      <td>-3.389522e+00</td>\n",
              "    </tr>\n",
              "    <tr>\n",
              "      <th>25%</th>\n",
              "      <td>257.700000</td>\n",
              "      <td>8.350000</td>\n",
              "      <td>-4.657194e-01</td>\n",
              "      <td>-7.173038e-01</td>\n",
              "    </tr>\n",
              "    <tr>\n",
              "      <th>50%</th>\n",
              "      <td>314.900000</td>\n",
              "      <td>9.700000</td>\n",
              "      <td>-3.261247e-01</td>\n",
              "      <td>4.216880e-02</td>\n",
              "    </tr>\n",
              "    <tr>\n",
              "      <th>75%</th>\n",
              "      <td>486.350000</td>\n",
              "      <td>10.850000</td>\n",
              "      <td>9.229340e-02</td>\n",
              "      <td>6.891269e-01</td>\n",
              "    </tr>\n",
              "    <tr>\n",
              "      <th>max</th>\n",
              "      <td>6116.300000</td>\n",
              "      <td>14.400000</td>\n",
              "      <td>1.383200e+01</td>\n",
              "      <td>2.686259e+00</td>\n",
              "    </tr>\n",
              "  </tbody>\n",
              "</table>\n",
              "</div>\n",
              "    <div class=\"colab-df-buttons\">\n",
              "\n",
              "  <div class=\"colab-df-container\">\n",
              "    <button class=\"colab-df-convert\" onclick=\"convertToInteractive('df-58544b5c-ec3c-4f1f-b958-364e033fd10f')\"\n",
              "            title=\"Convert this dataframe to an interactive table.\"\n",
              "            style=\"display:none;\">\n",
              "\n",
              "  <svg xmlns=\"http://www.w3.org/2000/svg\" height=\"24px\" viewBox=\"0 -960 960 960\">\n",
              "    <path d=\"M120-120v-720h720v720H120Zm60-500h600v-160H180v160Zm220 220h160v-160H400v160Zm0 220h160v-160H400v160ZM180-400h160v-160H180v160Zm440 0h160v-160H620v160ZM180-180h160v-160H180v160Zm440 0h160v-160H620v160Z\"/>\n",
              "  </svg>\n",
              "    </button>\n",
              "\n",
              "  <style>\n",
              "    .colab-df-container {\n",
              "      display:flex;\n",
              "      gap: 12px;\n",
              "    }\n",
              "\n",
              "    .colab-df-convert {\n",
              "      background-color: #E8F0FE;\n",
              "      border: none;\n",
              "      border-radius: 50%;\n",
              "      cursor: pointer;\n",
              "      display: none;\n",
              "      fill: #1967D2;\n",
              "      height: 32px;\n",
              "      padding: 0 0 0 0;\n",
              "      width: 32px;\n",
              "    }\n",
              "\n",
              "    .colab-df-convert:hover {\n",
              "      background-color: #E2EBFA;\n",
              "      box-shadow: 0px 1px 2px rgba(60, 64, 67, 0.3), 0px 1px 3px 1px rgba(60, 64, 67, 0.15);\n",
              "      fill: #174EA6;\n",
              "    }\n",
              "\n",
              "    .colab-df-buttons div {\n",
              "      margin-bottom: 4px;\n",
              "    }\n",
              "\n",
              "    [theme=dark] .colab-df-convert {\n",
              "      background-color: #3B4455;\n",
              "      fill: #D2E3FC;\n",
              "    }\n",
              "\n",
              "    [theme=dark] .colab-df-convert:hover {\n",
              "      background-color: #434B5C;\n",
              "      box-shadow: 0px 1px 3px 1px rgba(0, 0, 0, 0.15);\n",
              "      filter: drop-shadow(0px 1px 2px rgba(0, 0, 0, 0.3));\n",
              "      fill: #FFFFFF;\n",
              "    }\n",
              "  </style>\n",
              "\n",
              "    <script>\n",
              "      const buttonEl =\n",
              "        document.querySelector('#df-58544b5c-ec3c-4f1f-b958-364e033fd10f button.colab-df-convert');\n",
              "      buttonEl.style.display =\n",
              "        google.colab.kernel.accessAllowed ? 'block' : 'none';\n",
              "\n",
              "      async function convertToInteractive(key) {\n",
              "        const element = document.querySelector('#df-58544b5c-ec3c-4f1f-b958-364e033fd10f');\n",
              "        const dataTable =\n",
              "          await google.colab.kernel.invokeFunction('convertToInteractive',\n",
              "                                                    [key], {});\n",
              "        if (!dataTable) return;\n",
              "\n",
              "        const docLinkHtml = 'Like what you see? Visit the ' +\n",
              "          '<a target=\"_blank\" href=https://colab.research.google.com/notebooks/data_table.ipynb>data table notebook</a>'\n",
              "          + ' to learn more about interactive tables.';\n",
              "        element.innerHTML = '';\n",
              "        dataTable['output_type'] = 'display_data';\n",
              "        await google.colab.output.renderOutput(dataTable, element);\n",
              "        const docLink = document.createElement('div');\n",
              "        docLink.innerHTML = docLinkHtml;\n",
              "        element.appendChild(docLink);\n",
              "      }\n",
              "    </script>\n",
              "  </div>\n",
              "\n",
              "\n",
              "<div id=\"df-e2a1c918-8ac0-4c91-8695-b843d9b57176\">\n",
              "  <button class=\"colab-df-quickchart\" onclick=\"quickchart('df-e2a1c918-8ac0-4c91-8695-b843d9b57176')\"\n",
              "            title=\"Suggest charts.\"\n",
              "            style=\"display:none;\">\n",
              "\n",
              "<svg xmlns=\"http://www.w3.org/2000/svg\" height=\"24px\"viewBox=\"0 0 24 24\"\n",
              "     width=\"24px\">\n",
              "    <g>\n",
              "        <path d=\"M19 3H5c-1.1 0-2 .9-2 2v14c0 1.1.9 2 2 2h14c1.1 0 2-.9 2-2V5c0-1.1-.9-2-2-2zM9 17H7v-7h2v7zm4 0h-2V7h2v10zm4 0h-2v-4h2v4z\"/>\n",
              "    </g>\n",
              "</svg>\n",
              "  </button>\n",
              "\n",
              "<style>\n",
              "  .colab-df-quickchart {\n",
              "      --bg-color: #E8F0FE;\n",
              "      --fill-color: #1967D2;\n",
              "      --hover-bg-color: #E2EBFA;\n",
              "      --hover-fill-color: #174EA6;\n",
              "      --disabled-fill-color: #AAA;\n",
              "      --disabled-bg-color: #DDD;\n",
              "  }\n",
              "\n",
              "  [theme=dark] .colab-df-quickchart {\n",
              "      --bg-color: #3B4455;\n",
              "      --fill-color: #D2E3FC;\n",
              "      --hover-bg-color: #434B5C;\n",
              "      --hover-fill-color: #FFFFFF;\n",
              "      --disabled-bg-color: #3B4455;\n",
              "      --disabled-fill-color: #666;\n",
              "  }\n",
              "\n",
              "  .colab-df-quickchart {\n",
              "    background-color: var(--bg-color);\n",
              "    border: none;\n",
              "    border-radius: 50%;\n",
              "    cursor: pointer;\n",
              "    display: none;\n",
              "    fill: var(--fill-color);\n",
              "    height: 32px;\n",
              "    padding: 0;\n",
              "    width: 32px;\n",
              "  }\n",
              "\n",
              "  .colab-df-quickchart:hover {\n",
              "    background-color: var(--hover-bg-color);\n",
              "    box-shadow: 0 1px 2px rgba(60, 64, 67, 0.3), 0 1px 3px 1px rgba(60, 64, 67, 0.15);\n",
              "    fill: var(--button-hover-fill-color);\n",
              "  }\n",
              "\n",
              "  .colab-df-quickchart-complete:disabled,\n",
              "  .colab-df-quickchart-complete:disabled:hover {\n",
              "    background-color: var(--disabled-bg-color);\n",
              "    fill: var(--disabled-fill-color);\n",
              "    box-shadow: none;\n",
              "  }\n",
              "\n",
              "  .colab-df-spinner {\n",
              "    border: 2px solid var(--fill-color);\n",
              "    border-color: transparent;\n",
              "    border-bottom-color: var(--fill-color);\n",
              "    animation:\n",
              "      spin 1s steps(1) infinite;\n",
              "  }\n",
              "\n",
              "  @keyframes spin {\n",
              "    0% {\n",
              "      border-color: transparent;\n",
              "      border-bottom-color: var(--fill-color);\n",
              "      border-left-color: var(--fill-color);\n",
              "    }\n",
              "    20% {\n",
              "      border-color: transparent;\n",
              "      border-left-color: var(--fill-color);\n",
              "      border-top-color: var(--fill-color);\n",
              "    }\n",
              "    30% {\n",
              "      border-color: transparent;\n",
              "      border-left-color: var(--fill-color);\n",
              "      border-top-color: var(--fill-color);\n",
              "      border-right-color: var(--fill-color);\n",
              "    }\n",
              "    40% {\n",
              "      border-color: transparent;\n",
              "      border-right-color: var(--fill-color);\n",
              "      border-top-color: var(--fill-color);\n",
              "    }\n",
              "    60% {\n",
              "      border-color: transparent;\n",
              "      border-right-color: var(--fill-color);\n",
              "    }\n",
              "    80% {\n",
              "      border-color: transparent;\n",
              "      border-right-color: var(--fill-color);\n",
              "      border-bottom-color: var(--fill-color);\n",
              "    }\n",
              "    90% {\n",
              "      border-color: transparent;\n",
              "      border-bottom-color: var(--fill-color);\n",
              "    }\n",
              "  }\n",
              "</style>\n",
              "\n",
              "  <script>\n",
              "    async function quickchart(key) {\n",
              "      const quickchartButtonEl =\n",
              "        document.querySelector('#' + key + ' button');\n",
              "      quickchartButtonEl.disabled = true;  // To prevent multiple clicks.\n",
              "      quickchartButtonEl.classList.add('colab-df-spinner');\n",
              "      try {\n",
              "        const charts = await google.colab.kernel.invokeFunction(\n",
              "            'suggestCharts', [key], {});\n",
              "      } catch (error) {\n",
              "        console.error('Error during call to suggestCharts:', error);\n",
              "      }\n",
              "      quickchartButtonEl.classList.remove('colab-df-spinner');\n",
              "      quickchartButtonEl.classList.add('colab-df-quickchart-complete');\n",
              "    }\n",
              "    (() => {\n",
              "      let quickchartButtonEl =\n",
              "        document.querySelector('#df-e2a1c918-8ac0-4c91-8695-b843d9b57176 button');\n",
              "      quickchartButtonEl.style.display =\n",
              "        google.colab.kernel.accessAllowed ? 'block' : 'none';\n",
              "    })();\n",
              "  </script>\n",
              "</div>\n",
              "    </div>\n",
              "  </div>\n"
            ],
            "text/plain": [
              "       X1-high_level  X2-low_level     zscore_X1     zscore_X2\n",
              "count     583.000000    583.000000  5.830000e+02  5.830000e+02\n",
              "mean      448.532075      9.625043 -7.312618e-17 -8.531388e-16\n",
              "std       410.109513      1.779076  1.000859e+00  1.000859e+00\n",
              "min       120.700000      3.600000 -8.000634e-01 -3.389522e+00\n",
              "25%       257.700000      8.350000 -4.657194e-01 -7.173038e-01\n",
              "50%       314.900000      9.700000 -3.261247e-01  4.216880e-02\n",
              "75%       486.350000     10.850000  9.229340e-02  6.891269e-01\n",
              "max      6116.300000     14.400000  1.383200e+01  2.686259e+00"
            ]
          },
          "execution_count": 52,
          "metadata": {},
          "output_type": "execute_result"
        }
      ],
      "source": [
        "liverdisease_df.describe()"
      ]
    },
    {
      "cell_type": "code",
      "execution_count": 53,
      "metadata": {
        "colab": {
          "base_uri": "https://localhost:8080/",
          "height": 717
        },
        "id": "5BUScOVkZBk3",
        "outputId": "85ea70be-cc52-4941-e6f9-2cc625afc13b"
      },
      "outputs": [
        {
          "data": {
            "text/plain": [
              "<Figure size 100x300 with 0 Axes>"
            ]
          },
          "metadata": {},
          "output_type": "display_data"
        },
        {
          "data": {
            "image/png": "[encoded data removed]",
            "text/plain": [
              "<Figure size 1000x800 with 4 Axes>"
            ]
          },
          "metadata": {},
          "output_type": "display_data"
        }
      ],
      "source": [
        "plt.figure(figsize=(1,3))\n",
        "liverdisease_df.hist(bins=50, figsize=(10, 8))\n",
        "plt.show()"
      ]
    },
    {
      "cell_type": "markdown",
      "metadata": {
        "id": "6wlInm7OYecy"
      },
      "source": [
        "*Identifying outliers*"
      ]
    },
    {
      "cell_type": "code",
      "execution_count": 54,
      "metadata": {
        "colab": {
          "base_uri": "https://localhost:8080/"
        },
        "id": "EfrZorWhZNoW",
        "outputId": "6d524d5f-2846-4a6c-e32a-5ec04dfb10d3"
      },
      "outputs": [
        {
          "name": "stdout",
          "output_type": "stream",
          "text": [
            "    Dataset  X1-high_level  X2-low_level  zscore_X1  zscore_X2\n",
            "117     Yes         3184.7           9.0   6.677528  -0.351632\n",
            "135     Yes         6116.3           9.4  13.832001  -0.126603\n",
            "180     Yes          356.8           3.6  -0.223869  -3.389522\n",
            "199     Yes         2504.2           8.1   5.016790  -0.857947\n",
            "233     Yes         2234.0           9.2   4.357376  -0.239117\n",
            "243     Yes          367.9          14.0  -0.196780   2.461230\n",
            "270     Yes          326.7          14.4  -0.297327   2.686259\n",
            "273     Yes          310.7          14.3  -0.336375   2.630001\n",
            "372     Yes          391.7          14.2  -0.138697   2.573744\n",
            "447     Yes         2129.3          11.2   4.101859   0.886027\n"
          ]
        }
      ],
      "source": [
        "'''Giving thresholds to zscores based on the spread'''\n",
        "min_X1_zscore_threshold = -0.9\n",
        "max_X1_zcore_threshold = 4\n",
        "min_X2_zscore_threshold = -3\n",
        "max_X2_zcore_threshold = 2.4\n",
        "outliers = liverdisease_df[((((liverdisease_df['zscore_X1'] < min_X1_zscore_threshold) | (liverdisease_df['zscore_X1'] > max_X1_zcore_threshold))) | (((liverdisease_df['zscore_X2'] < min_X2_zscore_threshold) | (liverdisease_df['zscore_X2'] > max_X2_zcore_threshold))))]\n",
        "print(outliers)"
      ]
    },
    {
      "cell_type": "markdown",
      "metadata": {
        "id": "ylKz7IhZoBYK"
      },
      "source": [
        "Removing outliers"
      ]
    },
    {
      "cell_type": "code",
      "execution_count": 55,
      "metadata": {
        "colab": {
          "base_uri": "https://localhost:8080/"
        },
        "id": "FqS-xixAoDMN",
        "outputId": "9e280822-7ac9-4f13-d50b-cef1cc4e33e7"
      },
      "outputs": [
        {
          "name": "stdout",
          "output_type": "stream",
          "text": [
            "Int64Index([117, 135, 180, 199, 233, 243, 270, 273, 372, 447], dtype='int64')\n",
            "    Dataset  X1-high_level  X2-low_level\n",
            "0       Yes          270.7          10.1\n",
            "1       Yes          871.9          10.7\n",
            "2       Yes          627.3          10.3\n",
            "3       Yes          261.0          10.2\n",
            "4       Yes          329.9           9.7\n",
            "..      ...            ...           ...\n",
            "568      No          594.5           7.5\n",
            "569     Yes          169.6           9.2\n",
            "570     Yes          346.8           9.6\n",
            "571     Yes          248.3          10.2\n",
            "572      No          279.0          11.7\n",
            "\n",
            "[573 rows x 3 columns]\n"
          ]
        }
      ],
      "source": [
        "outlier_index = outliers.index\n",
        "print(outlier_index)\n",
        "liverdisease_df = liverdisease_df.drop(outlier_index)\n",
        "# Reset the index and drop the old index\n",
        "liverdisease_df = liverdisease_df.reset_index(drop=True)\n",
        "liverdisease_df = liverdisease_df[['Dataset', 'X1-high_level', 'X2-low_level']]\n",
        "print(liverdisease_df)"
      ]
    },
    {
      "cell_type": "markdown",
      "metadata": {
        "id": "hwtKk44eRu3I"
      },
      "source": [
        "**4. Model Building**\n",
        "\n",
        "4.a. Split the dataset into training and test sets. Answers without justification will not\n",
        "be awarded marks. [1M]\n",
        "i. Train = 80 % Test = 20%\n",
        "ii. Also, try to split the dataset with different ratios of your choice.\n",
        "4.b. Build a Random Forest classification model to predict liver disease. [2M]\n",
        "i. Tune hyperparameters (e.g., number of trees, maximum depth) using cross\n",
        "validation. Justify your answer.\n",
        "ii. Evaluate the model's performance using appropriate metrics.\n",
        "4.c. Build a KNN classification model to predict liver disease. [2M]\n",
        "i. Determine the optimal value of k through hyperparameter tuning and cross\n",
        "validation. Justify your answer.\n",
        "ii. Evaluate the KNN model's performance using appropriate metrics."
      ]
    },
    {
      "cell_type": "markdown",
      "metadata": {
        "id": "TAoXHjbPqKQN"
      },
      "source": [
        "4 Starting Training Model.\n",
        "4.a. Split the dataset into training and test sets.\n",
        "Train = 80 % Test = 20%\n"
      ]
    },
    {
      "cell_type": "code",
      "execution_count": 56,
      "metadata": {
        "id": "WxwOV8_ZsUd9",
        "tags": []
      },
      "outputs": [],
      "source": [
        "X = liverdisease_df[['X1-high_level', 'X2-low_level']]\n",
        "y = liverdisease_df['Dataset']\n",
        "X_train, X_test, y_train, y_test = train_test_split(X, y, test_size=0.8, random_state=42)\n"
      ]
    },
    {
      "cell_type": "markdown",
      "metadata": {
        "id": "oK0d2YXNt37v"
      },
      "source": [
        "4.b Starting Implementing Random Forest for Train = 80% & Test = 20%"
      ]
    },
    {
      "cell_type": "code",
      "execution_count": 57,
      "metadata": {
        "colab": {
          "base_uri": "https://localhost:8080/"
        },
        "id": "Kcgg7s6nt7PL",
        "outputId": "4f079fb1-26bb-4fe7-fdc1-260e283eec9c"
      },
      "outputs": [
        {
          "name": "stdout",
          "output_type": "stream",
          "text": [
            "    Dataset  X1-high_level  X2-low_level Predicted_Dataset\n",
            "0       Yes          270.7          10.1               Yes\n",
            "1       Yes          871.9          10.7               NaN\n",
            "2       Yes          627.3          10.3               Yes\n",
            "3       Yes          261.0          10.2                No\n",
            "4       Yes          329.9           9.7               Yes\n",
            "..      ...            ...           ...               ...\n",
            "568      No          594.5           7.5               Yes\n",
            "569     Yes          169.6           9.2                No\n",
            "570     Yes          346.8           9.6               NaN\n",
            "571     Yes          248.3          10.2                No\n",
            "572      No          279.0          11.7               Yes\n",
            "\n",
            "[573 rows x 4 columns]\n",
            "Accuracy: 0.69\n",
            "Classification Report:\n",
            "               precision    recall  f1-score   support\n",
            "\n",
            "          No       0.48      0.30      0.37       138\n",
            "         Yes       0.74      0.86      0.80       321\n",
            "\n",
            "    accuracy                           0.69       459\n",
            "   macro avg       0.61      0.58      0.58       459\n",
            "weighted avg       0.66      0.69      0.67       459\n",
            "\n",
            "Confusion Matrix:\n",
            " [[ 41  97]\n",
            " [ 45 276]]\n"
          ]
        }
      ],
      "source": [
        "# Create a Random Forest classifier\n",
        "rf_classifier = RandomForestClassifier(n_estimators=100, random_state=42)\n",
        "\n",
        "# Train the model\n",
        "rf_classifier.fit(X_train, y_train)\n",
        "\n",
        "# Make predictions on the test set\n",
        "y_pred = rf_classifier.predict(X_test)\n",
        "X_test['Predicted_Dataset'] = y_pred\n",
        "liverdisease = pd.concat([liverdisease_df, X_test['Predicted_Dataset']], axis=1)\n",
        "print(liverdisease)\n",
        "# Evaluate the model\n",
        "accuracy = accuracy_score(y_test, y_pred)\n",
        "report = classification_report(y_test, y_pred)\n",
        "confusion = confusion_matrix(y_test, y_pred)\n",
        "\n",
        "# Print evaluation metrics\n",
        "print(f\"Accuracy: {accuracy:.2f}\")\n",
        "print(\"Classification Report:\\n\", report)\n",
        "print(\"Confusion Matrix:\\n\", confusion)"
      ]
    },
    {
      "cell_type": "markdown",
      "metadata": {
        "id": "KgNaEsthyffx"
      },
      "source": [
        "4.c Using Cross Validation in Random Forest"
      ]
    },
    {
      "cell_type": "code",
      "execution_count": 58,
      "metadata": {
        "colab": {
          "base_uri": "https://localhost:8080/"
        },
        "id": "QJLyx9SqybhF",
        "outputId": "fe1b4b1f-25b4-47f2-b7b3-9467de77f53c"
      },
      "outputs": [
        {
          "name": "stdout",
          "output_type": "stream",
          "text": [
            "at cv = 5: [0.7826087  0.56521739 0.69565217 0.65217391 0.77272727]\n",
            "Mean CV Score 1 0.69\n",
            "at cv = 9: [0.76923077 0.53846154 0.69230769 0.69230769 0.69230769 0.61538462\n",
            " 0.66666667 0.75       0.83333333]\n",
            "Mean CV Score 0.69\n"
          ]
        },
        {
          "name": "stderr",
          "output_type": "stream",
          "text": [
            "/usr/local/lib/python3.10/dist-packages/sklearn/model_selection/_split.py:700: UserWarning: The least populated class in y has only 29 members, which is less than n_splits=50.\n",
            "  warnings.warn(\n"
          ]
        },
        {
          "name": "stdout",
          "output_type": "stream",
          "text": [
            "at cv = 50: [0.33333333 0.66666667 1.         0.66666667 1.         0.33333333\n",
            " 0.66666667 0.33333333 0.66666667 0.66666667 0.33333333 0.66666667\n",
            " 1.         0.66666667 1.         1.         1.         0.5\n",
            " 0.5        0.5        0.5        0.         0.5        0.\n",
            " 0.5        1.         0.         1.         1.         0.5\n",
            " 1.         0.5        1.         0.5        1.         1.\n",
            " 1.         1.         1.         1.         0.5        0.5\n",
            " 1.         1.         1.         1.         1.         1.\n",
            " 0.5        0.5       ]\n",
            "Mean CV Score 0.71\n"
          ]
        }
      ],
      "source": [
        "# Perform cross-validation\n",
        "cv_scores = cross_val_score(rf_classifier, X_train, y_train, cv=5)\n",
        "print(\"at cv = 5:\" ,cv_scores)\n",
        "print(f\"Mean CV Score 1 {cv_scores.mean():.2f}\")\n",
        "cv_scores = cross_val_score(rf_classifier, X_train, y_train, cv=9)\n",
        "print(\"at cv = 9:\" ,cv_scores)\n",
        "print(f\"Mean CV Score {cv_scores.mean():.2f}\")\n",
        "cv_scores = cross_val_score(rf_classifier, X_train, y_train, cv=50)\n",
        "print(\"at cv = 50:\" ,cv_scores)\n",
        "print(f\"Mean CV Score {cv_scores.mean():.2f}\")"
      ]
    },
    {
      "cell_type": "markdown",
      "metadata": {
        "id": "ZkYrj7tfxH2k"
      },
      "source": [
        "Starting Implementing K Nearest Neighbhours for Train = 80% & Test = 20%"
      ]
    },
    {
      "cell_type": "code",
      "execution_count": 59,
      "metadata": {
        "colab": {
          "base_uri": "https://localhost:8080/"
        },
        "id": "ewllp2MDxMhN",
        "outputId": "a1557b73-9d85-46a0-ebf7-66a8f362e170"
      },
      "outputs": [
        {
          "name": "stdout",
          "output_type": "stream",
          "text": [
            "    Dataset  X1-high_level  X2-low_level Predicted_Dataset\n",
            "0       Yes          270.7          10.1               NaN\n",
            "1       Yes          871.9          10.7               NaN\n",
            "2       Yes          627.3          10.3               Yes\n",
            "3       Yes          261.0          10.2               NaN\n",
            "4       Yes          329.9           9.7               NaN\n",
            "..      ...            ...           ...               ...\n",
            "568      No          594.5           7.5               Yes\n",
            "569     Yes          169.6           9.2                No\n",
            "570     Yes          346.8           9.6               NaN\n",
            "571     Yes          248.3          10.2               NaN\n",
            "572      No          279.0          11.7               NaN\n",
            "\n",
            "[573 rows x 4 columns]\n",
            "Accuracy: 0.68\n",
            "Classification Report:\n",
            "               precision    recall  f1-score   support\n",
            "\n",
            "          No       0.42      0.30      0.35        33\n",
            "         Yes       0.75      0.83      0.79        82\n",
            "\n",
            "    accuracy                           0.68       115\n",
            "   macro avg       0.58      0.57      0.57       115\n",
            "weighted avg       0.65      0.68      0.66       115\n",
            "\n",
            "Confusion Matrix:\n",
            " [[10 23]\n",
            " [14 68]]\n"
          ]
        }
      ],
      "source": [
        "# Select features and target variable\n",
        "X = liverdisease_df[['X1-high_level', 'X2-low_level']]\n",
        "y = liverdisease_df['Dataset']\n",
        "\n",
        "# Split the data into training and testing sets\n",
        "X_train, X_test, y_train, y_test = train_test_split(X, y, test_size=0.2, random_state=42)\n",
        "knn_classifier = KNeighborsClassifier(n_neighbors=5)\n",
        "knn_classifier.fit(X_train, y_train)\n",
        "y_pred = knn_classifier.predict(X_test)\n",
        "X_test['Predicted_Dataset'] = y_pred\n",
        "liverdisease = pd.concat([liverdisease_df, X_test['Predicted_Dataset']], axis=1)\n",
        "print(liverdisease)\n",
        "# Evaluating Model\n",
        "accuracy = accuracy_score(y_test, y_pred)\n",
        "report = classification_report(y_test, y_pred)\n",
        "confusion = confusion_matrix(y_test, y_pred)\n",
        "\n",
        "# Print evaluation metrics\n",
        "print(f\"Accuracy: {accuracy:.2f}\")\n",
        "print(\"Classification Report:\\n\", report)\n",
        "print(\"Confusion Matrix:\\n\", confusion)"
      ]
    },
    {
      "cell_type": "markdown",
      "metadata": {
        "id": "Njvj4agjz4Zf"
      },
      "source": [
        "Using Cross validation for KNN"
      ]
    },
    {
      "cell_type": "code",
      "execution_count": 60,
      "metadata": {
        "colab": {
          "base_uri": "https://localhost:8080/"
        },
        "id": "LcGS9ZAO0Bth",
        "outputId": "cc4fd99c-1028-4ce7-bb0e-de090d2cd1b0",
        "tags": []
      },
      "outputs": [
        {
          "name": "stdout",
          "output_type": "stream",
          "text": [
            "at cv = 5: [0.65217391 0.60869565 0.67391304 0.69230769 0.67032967]\n",
            "Mean CV Score 1 0.66\n",
            "at cv = 9: [0.70588235 0.62745098 0.66666667 0.68627451 0.64705882 0.70588235\n",
            " 0.66666667 0.70588235 0.72      ]\n",
            "Mean CV Score 0.68\n",
            "at cv = 50: [0.6        0.7        0.6        0.9        0.7        0.8\n",
            " 0.7        0.4        0.66666667 0.44444444 0.77777778 0.66666667\n",
            " 0.66666667 0.55555556 0.77777778 0.66666667 0.33333333 0.66666667\n",
            " 0.66666667 0.66666667 0.55555556 0.55555556 0.55555556 0.55555556\n",
            " 0.77777778 0.77777778 0.66666667 0.88888889 0.55555556 0.55555556\n",
            " 0.66666667 0.55555556 0.55555556 0.77777778 0.66666667 0.44444444\n",
            " 0.88888889 0.77777778 0.77777778 0.88888889 0.66666667 0.77777778\n",
            " 0.55555556 0.77777778 0.66666667 0.66666667 0.77777778 0.44444444\n",
            " 0.77777778 0.77777778]\n",
            "Mean CV Score 0.67\n"
          ]
        }
      ],
      "source": [
        "# Perform cross-validation\n",
        "cv_scores = cross_val_score(knn_classifier, X_train, y_train, cv=5)\n",
        "print(\"at cv = 5:\" ,cv_scores)\n",
        "print(f\"Mean CV Score 1 {cv_scores.mean():.2f}\")\n",
        "cv_scores = cross_val_score(knn_classifier, X_train, y_train, cv=9)\n",
        "print(\"at cv = 9:\" ,cv_scores)\n",
        "print(f\"Mean CV Score {cv_scores.mean():.2f}\")\n",
        "cv_scores = cross_val_score(knn_classifier, X_train, y_train, cv=50)\n",
        "print(\"at cv = 50:\" ,cv_scores)\n",
        "print(f\"Mean CV Score {cv_scores.mean():.2f}\")"
      ]
    },
    {
      "cell_type": "markdown",
      "metadata": {
        "id": "K97J1sm2RkwG"
      },
      "source": [
        "**Train 50 test 50**"
      ]
    },
    {
      "cell_type": "code",
      "execution_count": 61,
      "metadata": {
        "id": "le41vSBzRkwG",
        "tags": []
      },
      "outputs": [],
      "source": [
        "X = liverdisease_df[['X1-high_level', 'X2-low_level']]\n",
        "y = liverdisease_df['Dataset']\n",
        "X_train, X_test, y_train, y_test = train_test_split(X, y, test_size=0.5, random_state=42)"
      ]
    },
    {
      "cell_type": "code",
      "execution_count": 62,
      "metadata": {
        "colab": {
          "base_uri": "https://localhost:8080/"
        },
        "id": "LrelMipHRkwG",
        "outputId": "2e8a7112-1f95-4311-d75d-13b5ae6e4544",
        "tags": []
      },
      "outputs": [
        {
          "name": "stdout",
          "output_type": "stream",
          "text": [
            "    Dataset  X1-high_level  X2-low_level Predicted_Dataset\n",
            "0       Yes          270.7          10.1               Yes\n",
            "1       Yes          871.9          10.7               NaN\n",
            "2       Yes          627.3          10.3               Yes\n",
            "3       Yes          261.0          10.2                No\n",
            "4       Yes          329.9           9.7               NaN\n",
            "..      ...            ...           ...               ...\n",
            "568      No          594.5           7.5               Yes\n",
            "569     Yes          169.6           9.2                No\n",
            "570     Yes          346.8           9.6               NaN\n",
            "571     Yes          248.3          10.2                No\n",
            "572      No          279.0          11.7               Yes\n",
            "\n",
            "[573 rows x 4 columns]\n",
            "Accuracy: 0.68\n",
            "Classification Report:\n",
            "               precision    recall  f1-score   support\n",
            "\n",
            "          No       0.39      0.35      0.37        77\n",
            "         Yes       0.77      0.80      0.79       210\n",
            "\n",
            "    accuracy                           0.68       287\n",
            "   macro avg       0.58      0.58      0.58       287\n",
            "weighted avg       0.67      0.68      0.67       287\n",
            "\n",
            "Confusion Matrix:\n",
            " [[ 27  50]\n",
            " [ 42 168]]\n"
          ]
        }
      ],
      "source": [
        "# Create a Random Forest classifier\n",
        "rf_classifier = RandomForestClassifier(n_estimators=100, random_state=42)\n",
        "\n",
        "# Train the model\n",
        "rf_classifier.fit(X_train, y_train)\n",
        "\n",
        "# Make predictions on the test set\n",
        "y_pred = rf_classifier.predict(X_test)\n",
        "X_test['Predicted_Dataset'] = y_pred\n",
        "liverdisease = pd.concat([liverdisease_df, X_test['Predicted_Dataset']], axis=1)\n",
        "print(liverdisease)\n",
        "# Evaluate the model\n",
        "accuracy = accuracy_score(y_test, y_pred)\n",
        "report = classification_report(y_test, y_pred)\n",
        "confusion = confusion_matrix(y_test, y_pred)\n",
        "\n",
        "# Print evaluation metrics\n",
        "print(f\"Accuracy: {accuracy:.2f}\")\n",
        "print(\"Classification Report:\\n\", report)\n",
        "print(\"Confusion Matrix:\\n\", confusion)"
      ]
    },
    {
      "cell_type": "markdown",
      "metadata": {
        "id": "qgdWCWr_RkwG"
      },
      "source": [
        "Using Cross Validation in Random Forest"
      ]
    },
    {
      "cell_type": "code",
      "execution_count": 63,
      "metadata": {
        "colab": {
          "base_uri": "https://localhost:8080/"
        },
        "id": "uYyIaGVCRkwG",
        "outputId": "ac8b5b2a-6b00-4e33-ae3f-dac406ea0b27",
        "tags": []
      },
      "outputs": [
        {
          "name": "stdout",
          "output_type": "stream",
          "text": [
            "at cv = 5: [0.5862069  0.68421053 0.57894737 0.61403509 0.66666667]\n",
            "Mean CV Score 1 0.63\n",
            "at cv = 9: [0.53125    0.71875    0.625      0.625      0.5        0.625\n",
            " 0.59375    0.67741935 0.64516129]\n",
            "Mean CV Score 0.62\n",
            "at cv = 50: [0.5        0.5        0.5        0.5        0.5        0.66666667\n",
            " 0.66666667 0.66666667 0.5        0.83333333 0.83333333 0.5\n",
            " 0.5        0.66666667 0.66666667 0.83333333 0.33333333 0.66666667\n",
            " 0.5        0.5        0.66666667 0.5        0.5        0.33333333\n",
            " 0.5        0.66666667 0.16666667 0.66666667 0.66666667 0.83333333\n",
            " 0.66666667 0.5        0.5        0.33333333 0.83333333 0.83333333\n",
            " 0.8        0.8        0.6        0.4        0.6        0.6\n",
            " 0.4        0.8        0.8        0.6        0.6        0.6\n",
            " 1.         0.8       ]\n",
            "Mean CV Score 0.61\n"
          ]
        }
      ],
      "source": [
        "# Perform cross-validation\n",
        "cv_scores = cross_val_score(rf_classifier, X_train, y_train, cv=5)\n",
        "print(\"at cv = 5:\" ,cv_scores)\n",
        "print(f\"Mean CV Score 1 {cv_scores.mean():.2f}\")\n",
        "cv_scores = cross_val_score(rf_classifier, X_train, y_train, cv=9)\n",
        "print(\"at cv = 9:\" ,cv_scores)\n",
        "print(f\"Mean CV Score {cv_scores.mean():.2f}\")\n",
        "cv_scores = cross_val_score(rf_classifier, X_train, y_train, cv=50)\n",
        "print(\"at cv = 50:\" ,cv_scores)\n",
        "print(f\"Mean CV Score {cv_scores.mean():.2f}\")"
      ]
    },
    {
      "cell_type": "markdown",
      "metadata": {
        "id": "KJ_uEDg5RkwG"
      },
      "source": [
        "Starting Implementing K Nearest Neighbhours for Train = 50% & Test = 50%"
      ]
    },
    {
      "cell_type": "code",
      "execution_count": 64,
      "metadata": {
        "colab": {
          "base_uri": "https://localhost:8080/"
        },
        "id": "VJqNHhveRkwG",
        "outputId": "71c71a52-1505-4981-b7d0-fb42a74710d1",
        "tags": []
      },
      "outputs": [
        {
          "name": "stdout",
          "output_type": "stream",
          "text": [
            "    Dataset  X1-high_level  X2-low_level Predicted_Dataset\n",
            "0       Yes          270.7          10.1               Yes\n",
            "1       Yes          871.9          10.7               NaN\n",
            "2       Yes          627.3          10.3               Yes\n",
            "3       Yes          261.0          10.2                No\n",
            "4       Yes          329.9           9.7               NaN\n",
            "..      ...            ...           ...               ...\n",
            "568      No          594.5           7.5               Yes\n",
            "569     Yes          169.6           9.2                No\n",
            "570     Yes          346.8           9.6               NaN\n",
            "571     Yes          248.3          10.2               Yes\n",
            "572      No          279.0          11.7               Yes\n",
            "\n",
            "[573 rows x 4 columns]\n",
            "Accuracy: 0.68\n",
            "Classification Report:\n",
            "               precision    recall  f1-score   support\n",
            "\n",
            "          No       0.38      0.32      0.35        77\n",
            "         Yes       0.77      0.81      0.79       210\n",
            "\n",
            "    accuracy                           0.68       287\n",
            "   macro avg       0.58      0.57      0.57       287\n",
            "weighted avg       0.66      0.68      0.67       287\n",
            "\n",
            "Confusion Matrix:\n",
            " [[ 25  52]\n",
            " [ 40 170]]\n"
          ]
        }
      ],
      "source": [
        "# Select features and target variable\n",
        "X = liverdisease_df[['X1-high_level', 'X2-low_level']]\n",
        "y = liverdisease_df['Dataset']\n",
        "\n",
        "# Split the data into training and testing sets\n",
        "X_train, X_test, y_train, y_test = train_test_split(X, y, test_size=0.5, random_state=42)\n",
        "knn_classifier = KNeighborsClassifier(n_neighbors=5)\n",
        "knn_classifier.fit(X_train, y_train)\n",
        "y_pred = knn_classifier.predict(X_test)\n",
        "X_test['Predicted_Dataset'] = y_pred\n",
        "liverdisease = pd.concat([liverdisease_df, X_test['Predicted_Dataset']], axis=1)\n",
        "print(liverdisease)\n",
        "# Evaluating Model\n",
        "accuracy = accuracy_score(y_test, y_pred)\n",
        "report = classification_report(y_test, y_pred)\n",
        "confusion = confusion_matrix(y_test, y_pred)\n",
        "\n",
        "# Print evaluation metrics\n",
        "print(f\"Accuracy: {accuracy:.2f}\")\n",
        "print(\"Classification Report:\\n\", report)\n",
        "print(\"Confusion Matrix:\\n\", confusion)"
      ]
    },
    {
      "cell_type": "markdown",
      "metadata": {
        "id": "xv7w9q4YRkwG"
      },
      "source": [
        "<head> Using Cross validation for KNN <head>"
      ]
    },
    {
      "cell_type": "code",
      "execution_count": 65,
      "metadata": {
        "colab": {
          "base_uri": "https://localhost:8080/"
        },
        "id": "qM8KWJzORkwG",
        "outputId": "b550adb9-9676-435e-c9d7-9068346217bb",
        "tags": []
      },
      "outputs": [
        {
          "name": "stdout",
          "output_type": "stream",
          "text": [
            "at cv = 5: [0.5862069  0.68421053 0.63157895 0.71929825 0.63157895]\n",
            "Mean CV Score 1 0.65\n",
            "at cv = 9: [0.5        0.8125     0.6875     0.8125     0.53125    0.59375\n",
            " 0.75       0.64516129 0.67741935]\n",
            "Mean CV Score 0.67\n",
            "at cv = 50: [0.5        0.5        0.66666667 0.5        0.5        1.\n",
            " 0.83333333 0.66666667 0.66666667 0.5        0.66666667 0.83333333\n",
            " 1.         0.66666667 0.83333333 0.83333333 0.5        0.83333333\n",
            " 1.         0.83333333 0.66666667 0.66666667 0.66666667 0.33333333\n",
            " 0.66666667 0.66666667 0.16666667 0.5        0.5        0.83333333\n",
            " 0.33333333 0.66666667 0.66666667 0.5        0.83333333 0.83333333\n",
            " 0.6        0.4        0.8        0.4        0.6        1.\n",
            " 0.4        0.8        0.8        0.4        0.8        0.8\n",
            " 1.         0.8       ]\n",
            "Mean CV Score 0.67\n"
          ]
        }
      ],
      "source": [
        "# Perform cross-validation\n",
        "cv_scores = cross_val_score(knn_classifier, X_train, y_train, cv=5)\n",
        "print(\"at cv = 5:\" ,cv_scores)\n",
        "print(f\"Mean CV Score 1 {cv_scores.mean():.2f}\")\n",
        "cv_scores = cross_val_score(knn_classifier, X_train, y_train, cv=9)\n",
        "print(\"at cv = 9:\" ,cv_scores)\n",
        "print(f\"Mean CV Score {cv_scores.mean():.2f}\")\n",
        "cv_scores = cross_val_score(knn_classifier, X_train, y_train, cv=50)\n",
        "print(\"at cv = 50:\" ,cv_scores)\n",
        "print(f\"Mean CV Score {cv_scores.mean():.2f}\")"
      ]
    },
    {
      "cell_type": "markdown",
      "metadata": {
        "id": "GKOcK9jQRkwH"
      },
      "source": [
        "**Train 65 test 35**"
      ]
    },
    {
      "cell_type": "code",
      "execution_count": 66,
      "metadata": {
        "id": "5a9rpQf7RkwH",
        "tags": []
      },
      "outputs": [],
      "source": [
        "X = liverdisease_df[['X1-high_level', 'X2-low_level']]\n",
        "y = liverdisease_df['Dataset']\n",
        "X_train, X_test, y_train, y_test = train_test_split(X, y, test_size=0.35, random_state=42)"
      ]
    },
    {
      "cell_type": "code",
      "execution_count": 67,
      "metadata": {
        "colab": {
          "base_uri": "https://localhost:8080/"
        },
        "id": "4TNP27KBRkwH",
        "outputId": "e06d636d-bb1e-48e9-99cd-1cb84bdbf17c",
        "tags": []
      },
      "outputs": [
        {
          "name": "stdout",
          "output_type": "stream",
          "text": [
            "    Dataset  X1-high_level  X2-low_level Predicted_Dataset\n",
            "0       Yes          270.7          10.1               Yes\n",
            "1       Yes          871.9          10.7               NaN\n",
            "2       Yes          627.3          10.3               Yes\n",
            "3       Yes          261.0          10.2               NaN\n",
            "4       Yes          329.9           9.7               NaN\n",
            "..      ...            ...           ...               ...\n",
            "568      No          594.5           7.5               Yes\n",
            "569     Yes          169.6           9.2                No\n",
            "570     Yes          346.8           9.6               NaN\n",
            "571     Yes          248.3          10.2                No\n",
            "572      No          279.0          11.7               Yes\n",
            "\n",
            "[573 rows x 4 columns]\n",
            "Accuracy: 0.69\n",
            "Classification Report:\n",
            "               precision    recall  f1-score   support\n",
            "\n",
            "          No       0.45      0.31      0.36        59\n",
            "         Yes       0.75      0.85      0.79       142\n",
            "\n",
            "    accuracy                           0.69       201\n",
            "   macro avg       0.60      0.58      0.58       201\n",
            "weighted avg       0.66      0.69      0.67       201\n",
            "\n",
            "Confusion Matrix:\n",
            " [[ 18  41]\n",
            " [ 22 120]]\n"
          ]
        }
      ],
      "source": [
        "# Create a Random Forest classifier\n",
        "rf_classifier = RandomForestClassifier(n_estimators=100, random_state=42)\n",
        "\n",
        "# Train the model\n",
        "rf_classifier.fit(X_train, y_train)\n",
        "\n",
        "# Make predictions on the test set\n",
        "y_pred = rf_classifier.predict(X_test)\n",
        "X_test['Predicted_Dataset'] = y_pred\n",
        "liverdisease = pd.concat([liverdisease_df, X_test['Predicted_Dataset']], axis=1)\n",
        "print(liverdisease)\n",
        "# Evaluate the model\n",
        "accuracy = accuracy_score(y_test, y_pred)\n",
        "report = classification_report(y_test, y_pred)\n",
        "confusion = confusion_matrix(y_test, y_pred)\n",
        "\n",
        "# Print evaluation metrics\n",
        "print(f\"Accuracy: {accuracy:.2f}\")\n",
        "print(\"Classification Report:\\n\", report)\n",
        "print(\"Confusion Matrix:\\n\", confusion)"
      ]
    },
    {
      "cell_type": "markdown",
      "metadata": {
        "id": "YGfvysXeRkwH"
      },
      "source": [
        "Using Cross Validation in Random Forest"
      ]
    },
    {
      "cell_type": "code",
      "execution_count": 68,
      "metadata": {
        "colab": {
          "base_uri": "https://localhost:8080/"
        },
        "id": "bRAyWN0eRkwH",
        "outputId": "e453097c-8698-4288-bb79-5c94154974b4",
        "tags": []
      },
      "outputs": [
        {
          "name": "stdout",
          "output_type": "stream",
          "text": [
            "at cv = 5: [0.6        0.69333333 0.7027027  0.64864865 0.68918919]\n",
            "Mean CV Score 1 0.67\n",
            "at cv = 9: [0.66666667 0.57142857 0.71428571 0.73170732 0.6097561  0.56097561\n",
            " 0.63414634 0.68292683 0.65853659]\n",
            "Mean CV Score 0.65\n",
            "at cv = 50: [0.625      0.625      0.75       0.75       0.625      0.625\n",
            " 0.75       0.5        0.625      0.75       0.875      0.5\n",
            " 0.625      0.75       0.625      0.75       0.625      0.625\n",
            " 0.625      0.875      0.5        0.5        0.42857143 0.71428571\n",
            " 0.42857143 0.57142857 0.57142857 0.71428571 0.57142857 0.57142857\n",
            " 0.57142857 0.42857143 0.71428571 0.57142857 0.71428571 0.57142857\n",
            " 0.85714286 0.42857143 0.71428571 0.85714286 0.71428571 0.85714286\n",
            " 0.57142857 0.85714286 0.57142857 0.71428571 0.57142857 0.57142857\n",
            " 0.71428571 1.        ]\n",
            "Mean CV Score 0.65\n"
          ]
        }
      ],
      "source": [
        "# Perform cross-validation\n",
        "cv_scores = cross_val_score(rf_classifier, X_train, y_train, cv=5)\n",
        "print(\"at cv = 5:\" ,cv_scores)\n",
        "print(f\"Mean CV Score 1 {cv_scores.mean():.2f}\")\n",
        "cv_scores = cross_val_score(rf_classifier, X_train, y_train, cv=9)\n",
        "print(\"at cv = 9:\" ,cv_scores)\n",
        "print(f\"Mean CV Score {cv_scores.mean():.2f}\")\n",
        "cv_scores = cross_val_score(rf_classifier, X_train, y_train, cv=50)\n",
        "print(\"at cv = 50:\" ,cv_scores)\n",
        "print(f\"Mean CV Score {cv_scores.mean():.2f}\")"
      ]
    },
    {
      "cell_type": "markdown",
      "metadata": {
        "id": "IHtRBC7gRkwH"
      },
      "source": [
        "Starting Implementing K Nearest Neighbhours for Train = 65% & Test = 35%"
      ]
    },
    {
      "cell_type": "code",
      "execution_count": 69,
      "metadata": {
        "colab": {
          "base_uri": "https://localhost:8080/"
        },
        "id": "_vKu6_oPRkwH",
        "outputId": "660450c5-7d83-4933-a9b8-ed065660d600",
        "tags": []
      },
      "outputs": [
        {
          "name": "stdout",
          "output_type": "stream",
          "text": [
            "    Dataset  X1-high_level  X2-low_level Predicted_Dataset\n",
            "0       Yes          270.7          10.1               Yes\n",
            "1       Yes          871.9          10.7               NaN\n",
            "2       Yes          627.3          10.3               Yes\n",
            "3       Yes          261.0          10.2               NaN\n",
            "4       Yes          329.9           9.7               NaN\n",
            "..      ...            ...           ...               ...\n",
            "568      No          594.5           7.5               Yes\n",
            "569     Yes          169.6           9.2                No\n",
            "570     Yes          346.8           9.6               NaN\n",
            "571     Yes          248.3          10.2               Yes\n",
            "572      No          279.0          11.7               Yes\n",
            "\n",
            "[573 rows x 4 columns]\n",
            "Accuracy: 0.67\n",
            "Classification Report:\n",
            "               precision    recall  f1-score   support\n",
            "\n",
            "          No       0.39      0.25      0.31        59\n",
            "         Yes       0.73      0.84      0.78       142\n",
            "\n",
            "    accuracy                           0.67       201\n",
            "   macro avg       0.56      0.55      0.54       201\n",
            "weighted avg       0.63      0.67      0.64       201\n",
            "\n",
            "Confusion Matrix:\n",
            " [[ 15  44]\n",
            " [ 23 119]]\n"
          ]
        }
      ],
      "source": [
        "# Select features and target variable\n",
        "X = liverdisease_df[['X1-high_level', 'X2-low_level']]\n",
        "y = liverdisease_df['Dataset']\n",
        "\n",
        "# Split the data into training and testing sets\n",
        "X_train, X_test, y_train, y_test = train_test_split(X, y, test_size=0.35, random_state=42)\n",
        "knn_classifier = KNeighborsClassifier(n_neighbors=5)\n",
        "knn_classifier.fit(X_train, y_train)\n",
        "y_pred = knn_classifier.predict(X_test)\n",
        "X_test['Predicted_Dataset'] = y_pred\n",
        "liverdisease = pd.concat([liverdisease_df, X_test['Predicted_Dataset']], axis=1)\n",
        "print(liverdisease)\n",
        "# Evaluating Model\n",
        "accuracy = accuracy_score(y_test, y_pred)\n",
        "report = classification_report(y_test, y_pred)\n",
        "confusion = confusion_matrix(y_test, y_pred)\n",
        "\n",
        "# Print evaluation metrics\n",
        "print(f\"Accuracy: {accuracy:.2f}\")\n",
        "print(\"Classification Report:\\n\", report)\n",
        "print(\"Confusion Matrix:\\n\", confusion)"
      ]
    },
    {
      "cell_type": "markdown",
      "metadata": {
        "id": "NMX-DAIWRkwH"
      },
      "source": [
        "<head> Using Cross validation for KNN <head>"
      ]
    },
    {
      "cell_type": "code",
      "execution_count": 70,
      "metadata": {
        "colab": {
          "base_uri": "https://localhost:8080/"
        },
        "id": "O-dZjYrdRkwH",
        "outputId": "49204256-e68f-4e22-c3ac-b6b93eca33a9",
        "tags": []
      },
      "outputs": [
        {
          "name": "stdout",
          "output_type": "stream",
          "text": [
            "at cv = 5: [0.56       0.68       0.71621622 0.66216216 0.67567568]\n",
            "Mean CV Score 1 0.66\n",
            "at cv = 9: [0.57142857 0.5952381  0.64285714 0.65853659 0.73170732 0.6097561\n",
            " 0.68292683 0.70731707 0.68292683]\n",
            "Mean CV Score 0.65\n",
            "at cv = 50: [0.25       0.625      0.75       0.625      0.625      0.625\n",
            " 0.75       0.375      0.625      0.625      0.625      0.625\n",
            " 0.75       0.625      0.625      0.5        0.625      0.75\n",
            " 0.625      0.75       0.5        0.625      0.85714286 0.85714286\n",
            " 0.85714286 0.71428571 0.71428571 0.71428571 0.71428571 0.42857143\n",
            " 0.57142857 0.42857143 0.85714286 0.57142857 0.57142857 0.71428571\n",
            " 0.57142857 0.57142857 0.71428571 0.71428571 0.85714286 0.71428571\n",
            " 0.57142857 0.85714286 0.57142857 0.85714286 0.28571429 0.71428571\n",
            " 0.71428571 0.85714286]\n",
            "Mean CV Score 0.65\n"
          ]
        }
      ],
      "source": [
        "# Perform cross-validation\n",
        "cv_scores = cross_val_score(knn_classifier, X_train, y_train, cv=5)\n",
        "print(\"at cv = 5:\" ,cv_scores)\n",
        "print(f\"Mean CV Score 1 {cv_scores.mean():.2f}\")\n",
        "cv_scores = cross_val_score(knn_classifier, X_train, y_train, cv=9)\n",
        "print(\"at cv = 9:\" ,cv_scores)\n",
        "print(f\"Mean CV Score {cv_scores.mean():.2f}\")\n",
        "cv_scores = cross_val_score(knn_classifier, X_train, y_train, cv=50)\n",
        "print(\"at cv = 50:\" ,cv_scores)\n",
        "print(f\"Mean CV Score {cv_scores.mean():.2f}\")"
      ]
    },
    {
      "cell_type": "markdown",
      "metadata": {
        "id": "tI8EeoEeUjAH"
      },
      "source": [
        "**5. Performance Evaluation [2M]**"
      ]
    },
    {
      "cell_type": "markdown",
      "metadata": {
        "id": "E1iR5eriUnuA"
      },
      "source": [
        "5.a. Compare the performance of the Random Forest and KNN models using\n",
        "appropriate evaluation metrics.\n"
      ]
    },
    {
      "cell_type": "markdown",
      "metadata": {
        "id": "MwzUD5gJRkwH"
      },
      "source": [
        "**K-Nearest Neighbors (KNN) Model:**\n",
        "\n",
        "- **Test Size 65% Train 35%:**\n",
        "  - At CV=5: Mean CV Score = 0.66\n",
        "  - At CV=9: Mean CV Score = 0.65\n",
        "  - At CV=50: Mean CV Score = 0.65\n",
        "  - Accuracy for Test 65% Train 35%: 0.67\n",
        "\n",
        "- **Test Size 50% Train 50%:**\n",
        "  - At CV=5: Mean CV Score = 0.65\n",
        "  - At CV=9: Mean CV Score = 0.67\n",
        "  - At CV=50: Mean CV Score = 0.67\n",
        "  - Accuracy for Test 50% Train 50%: 0.69\n",
        "\n",
        "- **Test Size 80% Train 20%:**\n",
        "  - At CV=5: Mean CV Score = 0.66\n",
        "  - At CV=9: Mean CV Score = 0.68\n",
        "  - At CV=50: Mean CV Score = 0.67\n",
        "  - Accuracy for Test 80% Train 20%: Not provided\n",
        "\n",
        "**Random Forest Model:**\n",
        "\n",
        "- **Test Size 65% Train 35%:**\n",
        "  - At CV=5: Mean CV Score = 0.67\n",
        "  - At CV=9: Mean CV Score = 0.65\n",
        "  - At CV=50: Mean CV Score = 0.65\n",
        "  - Accuracy for Test 65% Train 35%: 0.67\n",
        "  - Classification Report: Precision, Recall, and F1-score provided.\n",
        "\n",
        "- **Test Size 50% Train 50%:**\n",
        "  - At CV=5: Mean CV Score = 0.63\n",
        "  - At CV=9: Mean CV Score = 0.62\n",
        "  - At CV=50: Mean CV Score = 0.61\n",
        "  - Accuracy for Test 50% Train 50%: 0.68\n",
        "  - Classification Report: Precision, Recall, and F1-score provided.\n",
        "\n",
        "- **Test Size 80% Train 20%:**\n",
        "  - At CV=5: Mean CV Score = 0.69\n",
        "  - At CV=9: Mean CV Score = 0.69\n",
        "  - At CV=50: Mean CV Score = 0.71\n",
        "  - Accuracy for Test 80% Train 20%: 0.68\n",
        "  - Classification Report: Precision, Recall, and F1-score provided.\n",
        "\n"
      ]
    },
    {
      "cell_type": "markdown",
      "metadata": {
        "id": "cvXH7bvXU6vj"
      },
      "source": [
        "5.b. Provide insights into which model performs better and why."
      ]
    },
    {
      "cell_type": "markdown",
      "metadata": {
        "id": "DemM-TZCU39h"
      },
      "source": [
        "**Insights:**\n",
        "\n",
        "1. **Accuracy Comparison:** In general, the Random Forest model tends to achieve slightly higher accuracy compared to the KNN model across different train-test splits and cross-validation settings. For example, in the 50% test and 50% train scenario, Random Forest has an accuracy of 0.68, while KNN has an accuracy of 0.69.\n",
        "\n",
        "2. **Cross-Validation Scores:** The cross-validation scores for both models vary depending on the number of folds (CV). In some cases, Random Forest outperforms KNN (e.g., CV=5), while in others, they perform similarly. The choice of CV may impact model performance.\n",
        "\n",
        "3. **Precision, Recall, and F1-score:** The classification reports provide a more detailed view of model performance, including precision, recall, and F1-score for each class. Random Forest often shows better precision, recall, and F1-score, especially for the \"Yes\" class, indicating better performance in classifying the positive class.\n",
        "\n",
        "4. **Model Selection:** The choice between KNN and Random Forest should consider various factors, including the specific problem, dataset characteristics, and computational resources. Random Forest tends to perform well out-of-the-box and is less sensitive to hyperparameters, while KNN's performance can be influenced by the choice of k and data scaling.\n",
        "\n",
        "In summary, based on the provided results, Random Forest appears to be the better-performing model in terms of accuracy and classification metrics, especially when compared to the KNN model."
      ]
    },
    {
      "cell_type": "code",
      "execution_count": 72,
      "metadata": {
        "id": "5rpsxTcaRkwI"
      },
      "outputs": [],
      "source": [
        "#!jupyter nbconvert --to html Group24_LiverDisease.ipynb"
      ]
    }
  ],
  "metadata": {
    "colab": {
      "provenance": []
    },
    "kernelspec": {
      "display_name": "Python 3 (ipykernel)",
      "language": "python",
      "name": "python3"
    },
    "language_info": {
      "codemirror_mode": {
        "name": "ipython",
        "version": 3
      },
      "file_extension": ".py",
      "mimetype": "text/x-python",
      "name": "python",
      "nbconvert_exporter": "python",
      "pygments_lexer": "ipython3",
      "version": "3.11.4"
    }
  },
  "nbformat": 4,
  "nbformat_minor": 0
}
